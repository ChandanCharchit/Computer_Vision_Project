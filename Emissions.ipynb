{
  "nbformat": 4,
  "nbformat_minor": 0,
  "metadata": {
    "colab": {
      "name": "Emissions.ipynb",
      "provenance": [],
      "collapsed_sections": [],
      "mount_file_id": "1hYQpru-RUSH90C0e42QCI9xC8QfVwGMo",
      "authorship_tag": "ABX9TyMpUlHKCczGd19URPHJkS1r",
      "include_colab_link": true
    },
    "kernelspec": {
      "name": "python3",
      "display_name": "Python 3"
    },
    "language_info": {
      "name": "python"
    },
    "accelerator": "GPU"
  },
  "cells": [
    {
      "cell_type": "markdown",
      "metadata": {
        "id": "view-in-github",
        "colab_type": "text"
      },
      "source": [
        "<a href=\"https://colab.research.google.com/github/ChandanCharchit/Computer_Vision_Project/blob/main/Emissions.ipynb\" target=\"_parent\"><img src=\"https://colab.research.google.com/assets/colab-badge.svg\" alt=\"Open In Colab\"/></a>"
      ]
    },
    {
      "cell_type": "code",
      "source": [
        "import matplotlib.pyplot as plt\n"
      ],
      "metadata": {
        "id": "2GCSkHUpfgm0"
      },
      "execution_count": 1,
      "outputs": []
    },
    {
      "cell_type": "markdown",
      "source": [
        "Notes for running this file\n",
        "\n",
        "1.   Please install and import all the libraries\n",
        "2.   make 3 directories(LandCover, Tree, NonTree) where all the photos will be saved.\n",
        "3.   I have made 3 directories, you may have to drag the images into respective directories after unzipping is done(this is in code).\n",
        "4.   If you want to run this in colab then you have to link your google drive to colab(below code will prompt you to do that).\n"
      ],
      "metadata": {
        "id": "Sc0hqf9nLz7D"
      }
    },
    {
      "cell_type": "code",
      "source": [
        "from google.colab import drive\n",
        "drive.mount('/content/drive')"
      ],
      "metadata": {
        "colab": {
          "base_uri": "https://localhost:8080/"
        },
        "id": "YDOZGNNaeJ1N",
        "outputId": "f78bbf48-d6fc-401e-b9fa-6bb64ca3f8f7"
      },
      "execution_count": 2,
      "outputs": [
        {
          "output_type": "stream",
          "name": "stdout",
          "text": [
            "Drive already mounted at /content/drive; to attempt to forcibly remount, call drive.mount(\"/content/drive\", force_remount=True).\n"
          ]
        }
      ]
    },
    {
      "cell_type": "code",
      "source": [
        "!mkdir LC_250m\n"
      ],
      "metadata": {
        "id": "jQAEL_pNgu23"
      },
      "execution_count": 3,
      "outputs": []
    },
    {
      "cell_type": "code",
      "source": [
        "!mkdir Tree_Cover"
      ],
      "metadata": {
        "id": "ZZbU9DiT-uEL"
      },
      "execution_count": 4,
      "outputs": []
    },
    {
      "cell_type": "code",
      "source": [
        "!mkdir NonTree_Vegetation"
      ],
      "metadata": {
        "colab": {
          "base_uri": "https://localhost:8080/"
        },
        "id": "JGYyy_QMoKGD",
        "outputId": "751a4740-fe07-4a19-cd7d-3b0bf056ca4a"
      },
      "execution_count": 88,
      "outputs": [
        {
          "output_type": "stream",
          "name": "stdout",
          "text": [
            "mkdir: cannot create directory ‘NonTree_Vegetation’: File exists\n"
          ]
        }
      ]
    },
    {
      "cell_type": "code",
      "source": [
        "!unzip '/content/drive/MyDrive/Datasets/LC_250m.zip'"
      ],
      "metadata": {
        "id": "sZ0Kd5AugEZh"
      },
      "execution_count": null,
      "outputs": []
    },
    {
      "cell_type": "code",
      "source": [
        "!pip install rasterio"
      ],
      "metadata": {
        "id": "ZaCDQ6IgUhly"
      },
      "execution_count": null,
      "outputs": []
    },
    {
      "cell_type": "code",
      "source": [
        "import rasterio as rio"
      ],
      "metadata": {
        "id": "gfwXAy2RUo_j"
      },
      "execution_count": 7,
      "outputs": []
    },
    {
      "cell_type": "code",
      "source": [
        "mv Land_Cover_IGBP_2014_GT_250_Alberta.tif LC_250m"
      ],
      "metadata": {
        "id": "myWaA2b4hqJC"
      },
      "execution_count": 8,
      "outputs": []
    },
    {
      "cell_type": "code",
      "source": [
        "mv Land_Cover_IGBP_2015_GT_250_Alberta.tif LC_250m/"
      ],
      "metadata": {
        "id": "ppVHxh99h4Yk"
      },
      "execution_count": 9,
      "outputs": []
    },
    {
      "cell_type": "code",
      "source": [
        "mv Land_Cover_IGBP_2016_GT_250_Alberta.tif LC_250m/"
      ],
      "metadata": {
        "id": "bwLXcMjfiXHI"
      },
      "execution_count": 10,
      "outputs": []
    },
    {
      "cell_type": "code",
      "source": [
        "mv Land_Cover_IGBP_2017_GT_250_Alberta.tif LC_250m/"
      ],
      "metadata": {
        "id": "bH9q27IciZjo"
      },
      "execution_count": 11,
      "outputs": []
    },
    {
      "cell_type": "code",
      "source": [
        "mv Land_Cover_IGBP_2018_GT_250_Alberta.tif LC_250m/"
      ],
      "metadata": {
        "id": "wCcDxKHzibeq"
      },
      "execution_count": 12,
      "outputs": []
    },
    {
      "cell_type": "code",
      "source": [
        "mv Land_Cover_IGBP_2019_GT_250_Alberta.tif LC_250m/"
      ],
      "metadata": {
        "id": "et55Rtr4id2H"
      },
      "execution_count": 13,
      "outputs": []
    },
    {
      "cell_type": "code",
      "source": [
        "mv Land_Cover_IGBP_2020_GT_250_Alberta.tif LC_250m/"
      ],
      "metadata": {
        "id": "m-uNu1WDifZq"
      },
      "execution_count": 14,
      "outputs": []
    },
    {
      "cell_type": "code",
      "source": [
        "from rasterio.plot import show"
      ],
      "metadata": {
        "id": "16GqaDH7lXqc"
      },
      "execution_count": 15,
      "outputs": []
    },
    {
      "cell_type": "code",
      "source": [
        "img = rio.open('/content/LC_250m/Land_Cover_IGBP_2014_GT_250_Alberta.tif')"
      ],
      "metadata": {
        "id": "IYpCmjtFlXDr"
      },
      "execution_count": 16,
      "outputs": []
    },
    {
      "cell_type": "code",
      "source": [
        "show(img)"
      ],
      "metadata": {
        "colab": {
          "base_uri": "https://localhost:8080/",
          "height": 284
        },
        "id": "ilIm--0Sl_fJ",
        "outputId": "11fc85c7-55b2-492a-adaa-24c14af152c9"
      },
      "execution_count": 17,
      "outputs": [
        {
          "output_type": "display_data",
          "data": {
            "text/plain": [
              "<Figure size 432x288 with 1 Axes>"
            ],
            "image/png": "[encoded data removed]"
          },
          "metadata": {
            "needs_background": "light"
          }
        },
        {
          "output_type": "execute_result",
          "data": {
            "text/plain": [
              "<matplotlib.axes._subplots.AxesSubplot at 0x7f26d6205750>"
            ]
          },
          "metadata": {},
          "execution_count": 17
        }
      ]
    },
    {
      "cell_type": "code",
      "source": [
        "full_img = img.read()"
      ],
      "metadata": {
        "id": "tMurWLUqmERR"
      },
      "execution_count": 18,
      "outputs": []
    },
    {
      "cell_type": "code",
      "source": [
        "full_img"
      ],
      "metadata": {
        "colab": {
          "base_uri": "https://localhost:8080/"
        },
        "id": "Lk4sQO6tmgR7",
        "outputId": "65611cf3-c335-42fe-e92e-76ccc30c0c93"
      },
      "execution_count": 19,
      "outputs": [
        {
          "output_type": "execute_result",
          "data": {
            "text/plain": [
              "array([[[255, 255, 255, ..., 255, 255, 255],\n",
              "        [255, 255, 255, ..., 255, 255, 255],\n",
              "        [255, 255, 255, ..., 255, 255, 255],\n",
              "        ...,\n",
              "        [255, 255, 255, ..., 255, 255, 255],\n",
              "        [255, 255, 255, ..., 255, 255, 255],\n",
              "        [255, 255, 255, ..., 255, 255, 255]]], dtype=uint8)"
            ]
          },
          "metadata": {},
          "execution_count": 19
        }
      ]
    },
    {
      "cell_type": "code",
      "source": [
        "num_bands = img.count\n",
        "num_bands"
      ],
      "metadata": {
        "colab": {
          "base_uri": "https://localhost:8080/"
        },
        "id": "2irwoYCEmix7",
        "outputId": "c7b8d2df-dcb0-4e48-fc8c-6fa67f4703d6"
      },
      "execution_count": 20,
      "outputs": [
        {
          "output_type": "execute_result",
          "data": {
            "text/plain": [
              "1"
            ]
          },
          "metadata": {},
          "execution_count": 20
        }
      ]
    },
    {
      "cell_type": "code",
      "source": [
        "img_band_1 = img.read(1)"
      ],
      "metadata": {
        "id": "PZswdHaAmsep"
      },
      "execution_count": 21,
      "outputs": []
    },
    {
      "cell_type": "code",
      "source": [
        "full_img.shape"
      ],
      "metadata": {
        "colab": {
          "base_uri": "https://localhost:8080/"
        },
        "id": "Smr-tG_hnO5D",
        "outputId": "e4b67110-a787-4ae5-868b-49f96fbfbd22"
      },
      "execution_count": 22,
      "outputs": [
        {
          "output_type": "execute_result",
          "data": {
            "text/plain": [
              "(1, 5680, 8220)"
            ]
          },
          "metadata": {},
          "execution_count": 22
        }
      ]
    },
    {
      "cell_type": "code",
      "source": [
        "print(img.crs)"
      ],
      "metadata": {
        "colab": {
          "base_uri": "https://localhost:8080/"
        },
        "id": "CyxdeAQSncoo",
        "outputId": "19ada6fe-9a4f-4b82-b9af-0c3e3a7cde18"
      },
      "execution_count": 23,
      "outputs": [
        {
          "output_type": "stream",
          "name": "stdout",
          "text": [
            "EPSG:4326\n"
          ]
        }
      ]
    },
    {
      "cell_type": "code",
      "source": [
        "metadata = img.meta\n",
        "metadata"
      ],
      "metadata": {
        "colab": {
          "base_uri": "https://localhost:8080/"
        },
        "id": "ma_DlHhAnyPa",
        "outputId": "fd31294e-faab-4f5b-ef62-78d87fb91324"
      },
      "execution_count": 24,
      "outputs": [
        {
          "output_type": "execute_result",
          "data": {
            "text/plain": [
              "{'count': 1,\n",
              " 'crs': CRS.from_epsg(4326),\n",
              " 'driver': 'GTiff',\n",
              " 'dtype': 'uint8',\n",
              " 'height': 5680,\n",
              " 'nodata': 255.0,\n",
              " 'transform': Affine(0.0020833333332116784, 0.0, -124.049999989,\n",
              "       0.0, -0.002083333333274649, 60.374999995),\n",
              " 'width': 8220}"
            ]
          },
          "metadata": {},
          "execution_count": 24
        }
      ]
    },
    {
      "cell_type": "code",
      "source": [
        "'''To find out geo transform'''\n",
        "img.transform"
      ],
      "metadata": {
        "colab": {
          "base_uri": "https://localhost:8080/"
        },
        "id": "JpVo_so1okIW",
        "outputId": "6d759fce-b2ce-4b7f-e643-09d8ae762b86"
      },
      "execution_count": 25,
      "outputs": [
        {
          "output_type": "execute_result",
          "data": {
            "text/plain": [
              "Affine(0.0020833333332116784, 0.0, -124.049999989,\n",
              "       0.0, -0.002083333333274649, 60.374999995)"
            ]
          },
          "metadata": {},
          "execution_count": 25
        }
      ]
    },
    {
      "cell_type": "code",
      "source": [
        "!sudo easy_install GDAL"
      ],
      "metadata": {
        "colab": {
          "base_uri": "https://localhost:8080/"
        },
        "id": "aXDhCKuDpN3h",
        "outputId": "3e6a5683-b0f6-43a5-d5ad-50e654a88d57"
      },
      "execution_count": 26,
      "outputs": [
        {
          "output_type": "stream",
          "name": "stdout",
          "text": [
            "WARNING: The easy_install command is deprecated and will be removed in a future version.\n",
            "Searching for GDAL\n",
            "Best match: GDAL 2.2.2\n",
            "Adding GDAL 2.2.2 to easy-install.pth file\n",
            "\n",
            "Using /usr/lib/python2.7/dist-packages\n",
            "Processing dependencies for GDAL\n",
            "Finished processing dependencies for GDAL\n"
          ]
        }
      ]
    },
    {
      "cell_type": "code",
      "source": [
        "from osgeo import gdal"
      ],
      "metadata": {
        "id": "UJTyt2BvInxq"
      },
      "execution_count": 27,
      "outputs": []
    },
    {
      "cell_type": "code",
      "source": [
        "import numpy as np"
      ],
      "metadata": {
        "id": "jmejDeWLJORi"
      },
      "execution_count": 28,
      "outputs": []
    },
    {
      "cell_type": "code",
      "source": [
        "file1path = '/content/LC_250m/Land_Cover_IGBP_2014_GT_250_Alberta.tif'"
      ],
      "metadata": {
        "id": "PsckTq1_JbOM"
      },
      "execution_count": 29,
      "outputs": []
    },
    {
      "cell_type": "code",
      "source": [
        "ds = gdal.Open(file1path)"
      ],
      "metadata": {
        "id": "Py3ArY1RJQul"
      },
      "execution_count": 30,
      "outputs": []
    },
    {
      "cell_type": "code",
      "source": [
        "gt = ds.GetGeoTransform()"
      ],
      "metadata": {
        "id": "cO_ttq_zJhod"
      },
      "execution_count": 31,
      "outputs": []
    },
    {
      "cell_type": "code",
      "source": [
        "gt"
      ],
      "metadata": {
        "colab": {
          "base_uri": "https://localhost:8080/"
        },
        "id": "LBCrus8UJqSY",
        "outputId": "304614a8-fd28-43e7-e43b-6708db8d1882"
      },
      "execution_count": 32,
      "outputs": [
        {
          "output_type": "execute_result",
          "data": {
            "text/plain": [
              "(-124.049999989,\n",
              " 0.0020833333332116784,\n",
              " 0.0,\n",
              " 60.374999995,\n",
              " 0.0,\n",
              " -0.002083333333274649)"
            ]
          },
          "metadata": {},
          "execution_count": 32
        }
      ]
    },
    {
      "cell_type": "code",
      "source": [
        "!gdalinfo -nomd /content/LC_250m/Land_Cover_IGBP_2014_GT_250_Alberta.tif"
      ],
      "metadata": {
        "colab": {
          "base_uri": "https://localhost:8080/"
        },
        "id": "BppMXk2FLJ3Q",
        "outputId": "1b310c50-257f-46a6-8281-17c09efb6c25"
      },
      "execution_count": 40,
      "outputs": [
        {
          "output_type": "stream",
          "name": "stdout",
          "text": [
            "Driver: GTiff/GeoTIFF\n",
            "Files: /content/LC_250m/Land_Cover_IGBP_2014_GT_250_Alberta.tif\n",
            "Size is 8220, 5680\n",
            "Coordinate System is:\n",
            "GEOGCS[\"WGS 84\",\n",
            "    DATUM[\"WGS_1984\",\n",
            "        SPHEROID[\"WGS 84\",6378137,298.257223563,\n",
            "            AUTHORITY[\"EPSG\",\"7030\"]],\n",
            "        AUTHORITY[\"EPSG\",\"6326\"]],\n",
            "    PRIMEM[\"Greenwich\",0],\n",
            "    UNIT[\"degree\",0.0174532925199433],\n",
            "    AUTHORITY[\"EPSG\",\"4326\"]]\n",
            "Origin = (-124.049999989000000,60.374999995000003)\n",
            "Pixel Size = (0.002083333333212,-0.002083333333275)\n",
            "Corner Coordinates:\n",
            "Upper Left  (-124.0500000,  60.3750000) (124d 3' 0.00\"W, 60d22'30.00\"N)\n",
            "Lower Left  (-124.0500000,  48.5416667) (124d 3' 0.00\"W, 48d32'30.00\"N)\n",
            "Upper Right (-106.9250000,  60.3750000) (106d55'30.00\"W, 60d22'30.00\"N)\n",
            "Lower Right (-106.9250000,  48.5416667) (106d55'30.00\"W, 48d32'30.00\"N)\n",
            "Center      (-115.4875000,  54.4583333) (115d29'15.00\"W, 54d27'30.00\"N)\n",
            "Band 1 Block=8220x1 Type=Byte, ColorInterp=Gray\n",
            "  NoData Value=255\n"
          ]
        }
      ]
    },
    {
      "cell_type": "code",
      "source": [
        "img.bounds"
      ],
      "metadata": {
        "colab": {
          "base_uri": "https://localhost:8080/"
        },
        "id": "5qdMUrgVbc9x",
        "outputId": "104e3a75-6ed7-40dc-e41f-90f5acfcb31d"
      },
      "execution_count": 44,
      "outputs": [
        {
          "output_type": "execute_result",
          "data": {
            "text/plain": [
              "BoundingBox(left=-124.049999989, bottom=48.541666662, right=-106.92499999, top=60.374999995)"
            ]
          },
          "metadata": {},
          "execution_count": 44
        }
      ]
    },
    {
      "cell_type": "code",
      "source": [
        "!unzip '/content/drive/MyDrive/Datasets/Tree_Cover.zip'"
      ],
      "metadata": {
        "colab": {
          "base_uri": "https://localhost:8080/"
        },
        "id": "CKLu0v3_dtHX",
        "outputId": "35b3255c-5502-4748-cb81-c4c17dfd91e1"
      },
      "execution_count": 50,
      "outputs": [
        {
          "output_type": "stream",
          "name": "stdout",
          "text": [
            "Archive:  /content/drive/MyDrive/Datasets/Tree_Cover.zip\n",
            "warning:  stripped absolute path spec from /\n",
            "mapname:  conversion of  failed\n",
            " extracting: Percent_Tree_Cover_2014.tif  \n",
            " extracting: Percent_Tree_Cover_2015.tif  \n",
            " extracting: Percent_Tree_Cover_2016.tif  \n",
            " extracting: Percent_Tree_Cover_2017.tif  \n",
            " extracting: Percent_Tree_Cover_2018.tif  \n",
            " extracting: Percent_Tree_Cover_2019.tif  \n",
            " extracting: Percent_Tree_Cover_2020.tif  \n"
          ]
        }
      ]
    },
    {
      "cell_type": "code",
      "source": [
        "file2path = '/content/Percent_Tree_Cover_2014.tif'"
      ],
      "metadata": {
        "id": "Elnbk65b_Oc1"
      },
      "execution_count": 51,
      "outputs": []
    },
    {
      "cell_type": "code",
      "source": [
        "ds2 = gdal.Open(file2path)"
      ],
      "metadata": {
        "id": "MS8Nb7IX_edv"
      },
      "execution_count": 52,
      "outputs": []
    },
    {
      "cell_type": "code",
      "source": [
        "gt2 = ds2.GetGeoTransform()"
      ],
      "metadata": {
        "id": "SpX4V9j5_nB5"
      },
      "execution_count": 53,
      "outputs": []
    },
    {
      "cell_type": "code",
      "source": [
        "gt2"
      ],
      "metadata": {
        "colab": {
          "base_uri": "https://localhost:8080/"
        },
        "id": "cZmektkJ_2yf",
        "outputId": "b6cbe8c2-5fb4-4189-b1b7-33e1982818df"
      },
      "execution_count": 54,
      "outputs": [
        {
          "output_type": "execute_result",
          "data": {
            "text/plain": [
              "(-124.0520833222201,\n",
              " 0.0020833333331466974,\n",
              " 0.0,\n",
              " 60.37708332792444,\n",
              " 0.0,\n",
              " -0.0020833333331466974)"
            ]
          },
          "metadata": {},
          "execution_count": 54
        }
      ]
    },
    {
      "cell_type": "code",
      "source": [
        "!gdalinfo -nomd /content/Percent_Tree_Cover_2014.tif"
      ],
      "metadata": {
        "colab": {
          "base_uri": "https://localhost:8080/"
        },
        "id": "mFg7Eccm_3vU",
        "outputId": "59f8d483-9594-4c25-918e-8ecb3cfc358f"
      },
      "execution_count": 55,
      "outputs": [
        {
          "output_type": "stream",
          "name": "stdout",
          "text": [
            "Driver: GTiff/GeoTIFF\n",
            "Files: /content/Percent_Tree_Cover_2014.tif\n",
            "Size is 8221, 5682\n",
            "Coordinate System is:\n",
            "GEOGCS[\"WGS 84\",\n",
            "    DATUM[\"WGS_1984\",\n",
            "        SPHEROID[\"WGS 84\",6378137,298.257223563,\n",
            "            AUTHORITY[\"EPSG\",\"7030\"]],\n",
            "        AUTHORITY[\"EPSG\",\"6326\"]],\n",
            "    PRIMEM[\"Greenwich\",0],\n",
            "    UNIT[\"degree\",0.0174532925199433],\n",
            "    AUTHORITY[\"EPSG\",\"4326\"]]\n",
            "Origin = (-124.052083322220099,60.377083327924439)\n",
            "Pixel Size = (0.002083333333147,-0.002083333333147)\n",
            "Corner Coordinates:\n",
            "Upper Left  (-124.0520833,  60.3770833) (124d 3' 7.50\"W, 60d22'37.50\"N)\n",
            "Lower Left  (-124.0520833,  48.5395833) (124d 3' 7.50\"W, 48d32'22.50\"N)\n",
            "Upper Right (-106.9250000,  60.3770833) (106d55'30.00\"W, 60d22'37.50\"N)\n",
            "Lower Right (-106.9250000,  48.5395833) (106d55'30.00\"W, 48d32'22.50\"N)\n",
            "Center      (-115.4885417,  54.4583333) (115d29'18.75\"W, 54d27'30.00\"N)\n",
            "Band 1 Block=8221x1 Type=Byte, ColorInterp=Gray\n",
            "  NoData Value=253\n"
          ]
        }
      ]
    },
    {
      "cell_type": "code",
      "source": [
        "band2 = ds.GetRasterBand(1)"
      ],
      "metadata": {
        "id": "K4RGOXcJ_7U8"
      },
      "execution_count": 56,
      "outputs": []
    },
    {
      "cell_type": "markdown",
      "source": [
        "### Actual Code starts from here"
      ],
      "metadata": {
        "id": "0RQnEeIfIPtq"
      }
    },
    {
      "cell_type": "markdown",
      "source": [
        "The below 4  code cells have code for 4 tables in the excel file.\n",
        "while only 2 of these are in use. Please keep it incase you need it in future"
      ],
      "metadata": {
        "id": "My_RgVtpI8v4"
      }
    },
    {
      "cell_type": "code",
      "source": [
        "import math\n",
        "\n",
        "def fraction_burned(tree_coverage):\n",
        "  if tree_coverage < 0.4:\n",
        "    fr_tree_burned = 0\n",
        "    fr_veg_burned = 0.98\n",
        "  elif tree_coverage >= 0.6:\n",
        "    fr_tree_burned = 0.3\n",
        "    fr_veg_burned = 0.9\n",
        "  else:\n",
        "    fr_tree_burned = 0.3\n",
        "    fr_veg_burned = math.exp(tree_coverage*(-0.13))\n",
        "  return {'fr_tree_burned': fr_tree_burned, 'fr_veg_burned': fr_veg_burned}"
      ],
      "metadata": {
        "id": "-wKnQEEiF8IQ"
      },
      "execution_count": 63,
      "outputs": []
    },
    {
      "cell_type": "code",
      "source": [
        "def burned(tree_coverage, veg_coverage, fr_tree_burned, fr_veg_burned):\n",
        "  tree_burned = fr_tree_burned * tree_coverage\n",
        "  veg_burned = fr_veg_burned * veg_coverage\n",
        "  return {'tree_burned': tree_burned, 'veg_burned': veg_burned}"
      ],
      "metadata": {
        "id": "Qsk_GPn1WMJw"
      },
      "execution_count": 64,
      "outputs": []
    },
    {
      "cell_type": "code",
      "source": [
        "def Biomass_EmFactor(land_cover_class):\n",
        "\n",
        "  if land_cover_class == 1:\n",
        "    co2_emission_factor = 1514\n",
        "    co_emission_factor = 118\n",
        "    ch4_emission_factor = 6\n",
        "    biomass_loading = 25000\n",
        "\n",
        "  if land_cover_class == 2:\n",
        "    co2_emission_factor = 1643\n",
        "    co_emission_factor = 92\n",
        "    ch4_emission_factor = 5.1\n",
        "    biomass_loading = 28076\n",
        "\n",
        "  if land_cover_class == 3:\n",
        "    co2_emission_factor = 1514\n",
        "    co_emission_factor = 118\n",
        "    ch4_emission_factor = 6\n",
        "    biomass_loading = 25000\n",
        "\n",
        "  if land_cover_class == 4:\n",
        "    co2_emission_factor = 1630\n",
        "    co_emission_factor = 102\n",
        "    ch4_emission_factor = 5\n",
        "    biomass_loading = 25000\n",
        "\n",
        "  if land_cover_class == 5:\n",
        "    co2_emission_factor = 1630\n",
        "    co_emission_factor = 102\n",
        "    ch4_emission_factor = 56\n",
        "    biomass_loading = 25000\n",
        "\n",
        "  if land_cover_class == 6:\n",
        "    co2_emission_factor = 1716\n",
        "    co_emission_factor = 68\n",
        "    ch4_emission_factor = 2.6\n",
        "    biomass_loading = 5705\n",
        "\n",
        "  if land_cover_class == 7:\n",
        "    co2_emission_factor = 1716\n",
        "    co_emission_factor = 68\n",
        "    ch4_emission_factor = 2.6\n",
        "    biomass_loading = 5705\n",
        "\n",
        "  if land_cover_class == 8:\n",
        "    co2_emission_factor = 1716\n",
        "    co_emission_factor = 68\n",
        "    ch4_emission_factor = 2.6\n",
        "    biomass_loading = 5705\n",
        "\n",
        "  if land_cover_class == 9:\n",
        "    co2_emission_factor = 1692\n",
        "    co_emission_factor = 59\n",
        "    ch4_emission_factor = 1.5\n",
        "    biomass_loading = 976\n",
        "\n",
        "  if land_cover_class == 10:\n",
        "    co2_emission_factor = 1692\n",
        "    co_emission_factor = 59\n",
        "    ch4_emission_factor = 1.5\n",
        "    biomass_loading = 976\n",
        "\n",
        "  if land_cover_class == 11:\n",
        "    co2_emission_factor = 1692\n",
        "    co_emission_factor = 59\n",
        "    ch4_emission_factor = 1.5\n",
        "    biomass_loading = 976\n",
        "\n",
        "  if land_cover_class == 12:\n",
        "    co2_emission_factor = 1537\n",
        "    co_emission_factor = 111\n",
        "    ch4_emission_factor = 6\n",
        "    biomass_loading = 800\n",
        "\n",
        "  if land_cover_class == 14:\n",
        "    co2_emission_factor = 1692\n",
        "    co_emission_factor = 59\n",
        "    ch4_emission_factor = 1.5\n",
        "    biomass_loading = 976\n",
        "\n",
        "  if land_cover_class == 16:\n",
        "    co2_emission_factor = 1692\n",
        "    co_emission_factor = 59\n",
        "    ch4_emission_factor = 1.5\n",
        "    biomass_loading = 976\n",
        "\n",
        "  return {'co2_emission_factor': co2_emission_factor, \n",
        "          'co_emission_factor': co2_emission_factor, \n",
        "          'ch4_emission_factor': ch4_emission_factor,\n",
        "          'biomass_loading': biomass_loading\n",
        "          }"
      ],
      "metadata": {
        "id": "Ew1hfrpIXjzq"
      },
      "execution_count": 65,
      "outputs": []
    },
    {
      "cell_type": "code",
      "source": [
        "def get_final_emissions(em_factor, burned):\n",
        "  estimated_co2_emissions = 62500 * em_factor.biomass_loading * em_factor.co2_emission_factor *(burned.tree_burned + burned.veg_burned)\n",
        "  estimated_co_emissions = 62500 * em_factor.biomass_loading * em_factor.co_emission_factor *(burned.tree_burned + burned.veg_burned)\n",
        "  estimated_ch4_emissions = 62500 * em_factor.biomass_loading * em_factor.ch4_emission_factor *(burned.tree_burned + burned.veg_burned)\n",
        "  return [estimated_co2_emissions, estimated_co_emissions, estimated_ch4_emissions]"
      ],
      "metadata": {
        "id": "xE0iZRPmd1mk"
      },
      "execution_count": 66,
      "outputs": []
    },
    {
      "cell_type": "code",
      "source": [
        ""
      ],
      "metadata": {
        "id": "o2m1REfZgT30"
      },
      "execution_count": 66,
      "outputs": []
    },
    {
      "cell_type": "code",
      "source": [
        "img.bounds.left, img.bounds.right"
      ],
      "metadata": {
        "colab": {
          "base_uri": "https://localhost:8080/"
        },
        "id": "SdjmzVWajkuD",
        "outputId": "a3668286-c3d5-4b78-c7ec-c16035b51dd2"
      },
      "execution_count": 67,
      "outputs": [
        {
          "output_type": "execute_result",
          "data": {
            "text/plain": [
              "(-124.049999989, -106.92499999)"
            ]
          },
          "metadata": {},
          "execution_count": 67
        }
      ]
    },
    {
      "cell_type": "code",
      "source": [
        "img.bounds.top, img.bounds.bottom"
      ],
      "metadata": {
        "colab": {
          "base_uri": "https://localhost:8080/"
        },
        "id": "e68_Wzq7wqIE",
        "outputId": "109d4d3e-cbdf-471e-cbbd-00b84327176c"
      },
      "execution_count": 81,
      "outputs": [
        {
          "output_type": "execute_result",
          "data": {
            "text/plain": [
              "(60.374999995, 48.541666662)"
            ]
          },
          "metadata": {},
          "execution_count": 81
        }
      ]
    },
    {
      "cell_type": "code",
      "source": [
        "!unzip '/content/drive/MyDrive/Datasets/NonTree_Vegetation.zip'"
      ],
      "metadata": {
        "id": "pxkJFY9Xbs0v"
      },
      "execution_count": null,
      "outputs": []
    },
    {
      "cell_type": "code",
      "source": [
        "img3 = rio.open('/content/NonTree_Vegetation/Percent_NonTree_Vegetation_2014.tif')\n",
        "img3_band = img3.read(1)\n",
        "x, y = (img.bounds.left+10, img.bounds.top-5)\n",
        "row, col = img.index(x, y)\n",
        "img3_band[row, col]/100"
      ],
      "metadata": {
        "id": "fpcv8_Akjlc3",
        "colab": {
          "base_uri": "https://localhost:8080/"
        },
        "outputId": "3bdd490e-8454-4b8a-86c1-d56fdf660933"
      },
      "execution_count": 82,
      "outputs": [
        {
          "output_type": "execute_result",
          "data": {
            "text/plain": [
              "0.4"
            ]
          },
          "metadata": {},
          "execution_count": 82
        }
      ]
    },
    {
      "cell_type": "code",
      "source": [
        "import pandas as pd"
      ],
      "metadata": {
        "id": "HU0e3lskAmfL"
      },
      "execution_count": 83,
      "outputs": []
    },
    {
      "cell_type": "markdown",
      "source": [
        "Below code is for iterating through each of the pixels in any image and getting the raster data out of it.\n",
        "\n",
        "*0.002083333333147* is the pixel length in each image."
      ],
      "metadata": {
        "id": "w5tmU7Hzbt2_"
      }
    },
    {
      "cell_type": "code",
      "source": [
        "def get_Dataset(file_location, df):\n",
        "  df1=df\n",
        "  with rio.open(file_location) as dataset:\n",
        "    coordinates = ((dataset.bounds.left, dataset.bounds.top),\n",
        "                  (dataset.bounds.right, dataset.bounds.bottom))\n",
        "    img_band = dataset.read(1)\n",
        "    lon = coordinates[0][0]\n",
        "    lat = coordinates[0][1]\n",
        "\n",
        "    while (lat > coordinates[1][1]) and (lat<=coordinates[0][1]):\n",
        "      lon = coordinates[0][0]\n",
        "      while (lon < coordinates[1][0]) and (lon >= coordinates[0][0]):\n",
        "        px, py = dataset.index(lon, lat)\n",
        "        if df1.columns[2] == 'Land Cover':\n",
        "          df1 = df1.append({'Longitude' : lon, \n",
        "                          'Latitude' : lat, \n",
        "                          'Land Cover' : img_band[px, py]}, ignore_index = True)\n",
        "        elif df1.columns[2] == 'Tree Coverage':\n",
        "          df1 = df1.append({'Longitude' : lon, \n",
        "                          'Latitude' : lat, \n",
        "                          'Tree Coverage' : img_band[px, py]/100}, ignore_index = True)\n",
        "        elif df1.columns[2] == 'Vegetation Coverage':\n",
        "          df1 = df1.append({'Longitude' : lon, \n",
        "                          'Latitude' : lat, \n",
        "                          'Vegetation Coverage' : img_band[px, py]/100}, ignore_index = True)\n",
        "\n",
        "        lon+=0.002083333333147\n",
        "      lat-=0.002083333333147\n",
        "\n",
        "  return df1"
      ],
      "metadata": {
        "id": "2fOMXf1rjmS2"
      },
      "execution_count": 94,
      "outputs": []
    },
    {
      "cell_type": "code",
      "source": [
        ""
      ],
      "metadata": {
        "id": "I0lIJGc9EuvN",
        "colab": {
          "base_uri": "https://localhost:8080/"
        },
        "outputId": "081eecd1-30ca-4ae5-ef9a-67a0d04da80e"
      },
      "execution_count": 87,
      "outputs": [
        {
          "output_type": "stream",
          "name": "stdout",
          "text": [
            "Archive:  /content/drive/MyDrive/Datasets/NonTree_Vegetation.zip\n",
            "warning:  stripped absolute path spec from /\n",
            "mapname:  conversion of  failed\n",
            " extracting: Percent_NonTree_Vegetation_2014.tif  \n",
            " extracting: Percent_NonTree_Vegetation_2015.tif  \n",
            " extracting: Percent_NonTree_Vegetation_2016.tif  \n",
            " extracting: Percent_NonTree_Vegetation_2017.tif  \n",
            " extracting: Percent_NonTree_Vegetation_2018.tif  \n",
            " extracting: Percent_NonTree_Vegetation_2019.tif  \n",
            " extracting: Percent_NonTree_Vegetation_2020.tif  \n"
          ]
        }
      ]
    },
    {
      "cell_type": "markdown",
      "source": [
        "This code cell contains locations of images for each year. Later you will be asked to input any year. and it will automatically pick yearly images."
      ],
      "metadata": {
        "id": "INteH9hhKY83"
      }
    },
    {
      "cell_type": "code",
      "source": [
        "def get_file_location(year):\n",
        "  lc_location = None\n",
        "  Tree_location = None\n",
        "  NonTree_location = None\n",
        "  if year == '2014':\n",
        "    lc_location = '/content/LC_250m/Land_Cover_IGBP_2014_GT_250_Alberta.tif'\n",
        "    Tree_location = '/content/Tree_Cover/Percent_Tree_Cover_2014.tif'\n",
        "    NonTree_location = '/content/NonTree_Vegetation/Percent_NonTree_Vegetation_2014.tif'\n",
        "  if year == '2015':\n",
        "    lc_location = '/content/LC_250m/Land_Cover_IGBP_2015_GT_250_Alberta.tif'\n",
        "    Tree_location = '/content/Tree_Cover/Percent_Tree_Cover_2015.tif'\n",
        "    NonTree_location = '/content/NonTree_Vegetation/Percent_NonTree_Vegetation_2015.tif'\n",
        "  if year == '2016':\n",
        "    lc_location = '/content/LC_250m/Land_Cover_IGBP_2016_GT_250_Alberta.tif'\n",
        "    Tree_location = '/content/Tree_Cover/Percent_Tree_Cover_2016.tif'\n",
        "    NonTree_location = '/content/NonTree_Vegetation/Percent_NonTree_Vegetation_2016.tif'\n",
        "  if year == '2017':\n",
        "    lc_location = '/content/LC_250m/Land_Cover_IGBP_2017_GT_250_Alberta.tif'\n",
        "    Tree_location = '/content/Tree_Cover/Percent_Tree_Cover_2017.tif'\n",
        "    NonTree_location = '/content/NonTree_Vegetation/Percent_NonTree_Vegetation_2017.tif'\n",
        "  if year == '2018':\n",
        "    lc_location = '/content/LC_250m/Land_Cover_IGBP_2018_GT_250_Alberta.tif'\n",
        "    Tree_location = '/content/Tree_Cover/Percent_Tree_Cover_2018.tif'\n",
        "    NonTree_location = '/content/NonTree_Vegetation/Percent_NonTree_Vegetation_2018.tif'\n",
        "  if year == '2019':\n",
        "    lc_location = '/content/LC_250m/Land_Cover_IGBP_2019_GT_250_Alberta.tif'\n",
        "    Tree_location = '/content/Tree_Cover/Percent_Tree_Cover_2019.tif'\n",
        "    NonTree_location = '/content/NonTree_Vegetation/Percent_NonTree_Vegetation_2019.tif'\n",
        "  if year == '2020':\n",
        "    lc_location = '/content/LC_250m/Land_Cover_IGBP_2020_GT_250_Alberta.tif'\n",
        "    Tree_location = '/content/Tree_Cover/Percent_Tree_Cover_2020.tif'\n",
        "    NonTree_location = '/content/NonTree_Vegetation/Percent_NonTree_Vegetation_2020.tif'\n",
        "  \n",
        "  return {'LandCover_location': lc_location,\n",
        "          'Tree_location': Tree_location,\n",
        "          'NonTree_location': NonTree_location}\n"
      ],
      "metadata": {
        "id": "rA4qoZO0oRsj"
      },
      "execution_count": 89,
      "outputs": []
    },
    {
      "cell_type": "markdown",
      "source": [
        "### Table structure of 3 different dataframes."
      ],
      "metadata": {
        "id": "1wJqypzaK3Dq"
      }
    },
    {
      "cell_type": "code",
      "source": [
        "land_column_names = ['Longitude', 'Latitude', 'Land Cover']\n",
        "land_cover_data  = pd.DataFrame(columns = column_names)\n",
        "\n",
        "Tree_column_names = ['Longitude', 'Latitude', 'Tree Coverage']\n",
        "Tree_cover_data  = pd.DataFrame(columns = Tree_column_names)\n",
        "\n",
        "NonTree_column_names = ['Longitude', 'Latitude', 'Vegetation Coverage']\n",
        "NonTree_cover_data  = pd.DataFrame(columns = NonTree_column_names)\n"
      ],
      "metadata": {
        "id": "8oJIlbRNqj7g"
      },
      "execution_count": 90,
      "outputs": []
    },
    {
      "cell_type": "markdown",
      "source": [
        "### Input the year for which you want the csv files."
      ],
      "metadata": {
        "id": "Tzr6sskoLDmR"
      }
    },
    {
      "cell_type": "code",
      "source": [
        "year = input('Please enter the year: ')\n",
        "\n",
        "file_location = get_file_location(year)"
      ],
      "metadata": {
        "colab": {
          "base_uri": "https://localhost:8080/"
        },
        "id": "66_3KXVlraBB",
        "outputId": "eb7b652b-1141-45a6-deae-ab4038fc7b06"
      },
      "execution_count": 92,
      "outputs": [
        {
          "name": "stdout",
          "output_type": "stream",
          "text": [
            "Please enter the year: 2015\n"
          ]
        }
      ]
    },
    {
      "cell_type": "markdown",
      "source": [
        "This code cell will call getDataset function and iterate through pixels.\n",
        "This may take hours to finish."
      ],
      "metadata": {
        "id": "YUF-WI9OLM-l"
      }
    },
    {
      "cell_type": "code",
      "source": [
        "LandCover_Dataset = get_Dataset(file_location['LandCover_location'], land_cover_data)\n",
        "TreeCover_Dataset = get_Dataset(file_location['Tree_location'], Tree_cover_data)\n",
        "NonTreeCover_Dataset = get_Dataset(file_location['NonTree_location'], NonTree_cover_data)"
      ],
      "metadata": {
        "id": "UIxySNCLslTK"
      },
      "execution_count": null,
      "outputs": []
    },
    {
      "cell_type": "markdown",
      "source": [
        "Concatenating the above datasets side by side."
      ],
      "metadata": {
        "id": "oAgOVMhhLa7a"
      }
    },
    {
      "cell_type": "code",
      "source": [
        "result_df = pd.concat([LandCover_Dataset, TreeCover_Dataset['Tree Coverage'], NonTreeCover_Dataset['Vegetation Coverage']], axis=1)"
      ],
      "metadata": {
        "id": "AJN3X_cC-oOX"
      },
      "execution_count": null,
      "outputs": []
    },
    {
      "cell_type": "code",
      "source": [
        "# for loop for picking out each row and feed them to diff functions\n",
        "# for index, row in result_df.iterrows():\n",
        "  # burned_fraction = fraction_burned(row['Tree Coverage'])\n",
        "  # burned_cover = burned(row['Tree Coverage'], row['Vegetation Coverage'], burned_fraction['fr_tree_burned'], burned_fraction['fr_veg_burned'])\n",
        "  # biomass_emissn = Biomass_EmFactor(row['Land Cover'])\n",
        "  # final_emission = get_final_emissions(biomass_emissn, burned_cover)\n"
      ],
      "metadata": {
        "id": "Wa0GK1K2-v1K"
      },
      "execution_count": null,
      "outputs": []
    },
    {
      "cell_type": "code",
      "source": [
        "# calculate_final_emission(result_df)"
      ],
      "metadata": {
        "id": "iVMEwdK7xUno"
      },
      "execution_count": null,
      "outputs": []
    },
    {
      "cell_type": "code",
      "source": [
        "# def calculate_final_emission(result_df):\n",
        "#   burned_fraction = fraction_burned(result_df['Tree Coverage'])\n",
        "#   burned_cover = burned(result_df['Tree Coverage'], result_df['Vegetation Coverage'], burned_fraction['fr_tree_burned'], burned_fraction['fr_veg_burned'])\n",
        "#   biomass_emissn = Biomass_EmFactor(result_df['Land Cover'])\n",
        "#   final_emission = get_final_emissions(biomass_emissn, burned_cover)\n",
        "#   return final_emission"
      ],
      "metadata": {
        "id": "YWbavmDtv44Y"
      },
      "execution_count": null,
      "outputs": []
    },
    {
      "cell_type": "code",
      "source": [
        "result_df['burned_fr_tree'] = result_df['Tree Coverage'].apply(lambda x: fraction_burned(x)['fr_tree_burned'])\n",
        "result_df['burned_fr_veg'] = result_df['Tree Coverage'].apply(lambda x: fraction_burned(x)['fr_veg_burned'])"
      ],
      "metadata": {
        "id": "bfwfRRgmytJZ"
      },
      "execution_count": null,
      "outputs": []
    },
    {
      "cell_type": "code",
      "source": [
        "result_df['burned_cover_tree'] = result_df['Tree Coverage'] * result_df['burned_fr_tree']\n",
        "result_df['burned_cover_veg'] = result_df['Vegetation Coverage'] * result_df['burned_fr_veg']"
      ],
      "metadata": {
        "id": "9k86ZlV8yt2j"
      },
      "execution_count": null,
      "outputs": []
    },
    {
      "cell_type": "code",
      "source": [
        "result_df['co2_emission_factor'] = result_df['Land Cover'].apply(lambda x: Biomass_EmFactor(x)['co2_emission_factor'])\n",
        "result_df['co_emission_factor'] = result_df['Land Cover'].apply(lambda x: Biomass_EmFactor(x)['co_emission_factor'])\n",
        "result_df['ch4_emission_factor'] = result_df['Land Cover'].apply(lambda x: Biomass_EmFactor(x)['ch4_emission_factor'])\n",
        "result_df['biomass_loading'] = result_df['Land Cover'].apply(lambda x: Biomass_EmFactor(x)['biomass_loading'])"
      ],
      "metadata": {
        "id": "hdgM0yU6yuBz"
      },
      "execution_count": null,
      "outputs": []
    },
    {
      "cell_type": "code",
      "source": [
        "result_df['estimated_co2_emissions'] = 62500 * result_df['biomass_loading'] * result_df['co2_emission_factor'] * (result_df['burned_cover_tree'] + result_df['burned_cover_veg'])\n",
        "result_df['estimated_co_emissions'] = 62500 * result_df['biomass_loading'] * result_df['co_emission_factor'] * (result_df['burned_cover_tree'] + result_df['burned_cover_veg'])\n",
        "result_df['estimated_ch4_emissions'] = 62500 * result_df['biomass_loading'] * result_df['ch4_emission_factor'] * (result_df['burned_cover_tree'] + result_df['burned_cover_veg'])"
      ],
      "metadata": {
        "id": "MYdJmq1iyuL4"
      },
      "execution_count": null,
      "outputs": []
    },
    {
      "cell_type": "code",
      "source": [
        ""
      ],
      "metadata": {
        "id": "ClvfTypNyuV1"
      },
      "execution_count": null,
      "outputs": []
    },
    {
      "cell_type": "markdown",
      "source": [
        "`Result_df is the final csv file. there are 8 extra columns in between longitude, latitude and 3 estimated emission columns.`\n",
        "\n",
        "---\n",
        "\n"
      ],
      "metadata": {
        "id": "2hKnodRXLyW0"
      }
    },
    {
      "cell_type": "markdown",
      "source": [
        "#### The below cell will save the result df to a csv file."
      ],
      "metadata": {
        "id": "Ctpv47oiN91C"
      }
    },
    {
      "cell_type": "code",
      "source": [
        "result_df.to_csv('emissions.csv', index=False)"
      ],
      "metadata": {
        "id": "r2Rq8JESyugJ"
      },
      "execution_count": null,
      "outputs": []
    },
    {
      "cell_type": "code",
      "source": [
        ""
      ],
      "metadata": {
        "id": "ofVYAbV6yuq8"
      },
      "execution_count": null,
      "outputs": []
    }
  ]
}