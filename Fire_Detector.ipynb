{
  "nbformat": 4,
  "nbformat_minor": 0,
  "metadata": {
    "colab": {
      "name": "Fire Detector.ipynb",
      "provenance": [],
      "mount_file_id": "1zquoHJz-2NZZ6gvvbbDVylwGo4WkVVFY",
      "authorship_tag": "ABX9TyP9rj15WlVxRXh1WSqFlCKj",
      "include_colab_link": true
    },
    "kernelspec": {
      "name": "python3",
      "display_name": "Python 3"
    },
    "language_info": {
      "name": "python"
    },
    "accelerator": "GPU"
  },
  "cells": [
    {
      "cell_type": "markdown",
      "metadata": {
        "id": "view-in-github",
        "colab_type": "text"
      },
      "source": [
        "<a href=\"https://colab.research.google.com/github/ChandanCharchit/Computer_Vision_Project/blob/main/Fire_Detector.ipynb\" target=\"_parent\"><img src=\"https://colab.research.google.com/assets/colab-badge.svg\" alt=\"Open In Colab\"/></a>"
      ]
    },
    {
      "cell_type": "code",
      "metadata": {
        "id": "7FK2pefbvr2z"
      },
      "source": [
        "import tensorflow as tf\n",
        "import numpy as np\n",
        "import cv2\n",
        "import PIL\n",
        "\n",
        "import matplotlib.pyplot as plt\n",
        "import pandas as pd\n",
        "import seaborn\n",
        "import os\n",
        "import matplotlib.image as mpimg\n",
        "%matplotlib inline\n",
        "import keras_preprocessing\n",
        "from keras_preprocessing import image\n",
        "from keras_preprocessing.image import ImageDataGenerator\n",
        "import shutil"
      ],
      "execution_count": 1,
      "outputs": []
    },
    {
      "cell_type": "code",
      "metadata": {
        "id": "WGPGemz7oRga"
      },
      "source": [
        "train_path='/content/drive/MyDrive/Datasets/Fire data/Train'\n",
        "val_path='/content/drive/MyDrive/Datasets/Fire data/Vali'\n",
        "test_path='/content/drive/MyDrive/Datasets/Fire data/Test'"
      ],
      "execution_count": 2,
      "outputs": []
    },
    {
      "cell_type": "code",
      "metadata": {
        "colab": {
          "base_uri": "https://localhost:8080/"
        },
        "id": "ACvNAykP0LZi",
        "outputId": "25216043-6d6f-42f9-e6f9-68a516d8fb37"
      },
      "source": [
        "!nvidia-smi"
      ],
      "execution_count": 3,
      "outputs": [
        {
          "output_type": "stream",
          "text": [
            "Thu Apr  1 20:07:08 2021       \n",
            "+-----------------------------------------------------------------------------+\n",
            "| NVIDIA-SMI 460.67       Driver Version: 460.32.03    CUDA Version: 11.2     |\n",
            "|-------------------------------+----------------------+----------------------+\n",
            "| GPU  Name        Persistence-M| Bus-Id        Disp.A | Volatile Uncorr. ECC |\n",
            "| Fan  Temp  Perf  Pwr:Usage/Cap|         Memory-Usage | GPU-Util  Compute M. |\n",
            "|                               |                      |               MIG M. |\n",
            "|===============================+======================+======================|\n",
            "|   0  Tesla T4            Off  | 00000000:00:04.0 Off |                    0 |\n",
            "| N/A   44C    P8    10W /  70W |      0MiB / 15109MiB |      0%      Default |\n",
            "|                               |                      |                  N/A |\n",
            "+-------------------------------+----------------------+----------------------+\n",
            "                                                                               \n",
            "+-----------------------------------------------------------------------------+\n",
            "| Processes:                                                                  |\n",
            "|  GPU   GI   CI        PID   Type   Process name                  GPU Memory |\n",
            "|        ID   ID                                                   Usage      |\n",
            "|=============================================================================|\n",
            "|  No running processes found                                                 |\n",
            "+-----------------------------------------------------------------------------+\n"
          ],
          "name": "stdout"
        }
      ]
    },
    {
      "cell_type": "code",
      "metadata": {
        "id": "ERC4Hg794uC3",
        "colab": {
          "base_uri": "https://localhost:8080/"
        },
        "outputId": "4856cc33-a9a9-46e6-85c4-0fa1c5aaba28"
      },
      "source": [
        "training_datagen=ImageDataGenerator(rescale=1./255)\n",
        "\n",
        "validation_datagen=ImageDataGenerator(rescale=1./255)\n",
        "\n",
        "training_data=training_datagen.flow_from_directory(train_path,\n",
        "                                                   target_size=(224,224),\n",
        "                                                   class_mode='categorical',\n",
        "                                                   batch_size=32)\n",
        "\n",
        "valid_data=training_datagen.flow_from_directory(val_path,\n",
        "                                                   target_size=(224,224),\n",
        "                                                   class_mode='categorical',\n",
        "                                                   batch_size=32)"
      ],
      "execution_count": 6,
      "outputs": [
        {
          "output_type": "stream",
          "text": [
            "Found 6004 images belonging to 2 classes.\n",
            "Found 2000 images belonging to 2 classes.\n"
          ],
          "name": "stdout"
        }
      ]
    },
    {
      "cell_type": "markdown",
      "metadata": {
        "id": "rwUTYObBwHZd"
      },
      "source": [
        "**Model**"
      ]
    },
    {
      "cell_type": "code",
      "metadata": {
        "colab": {
          "base_uri": "https://localhost:8080/"
        },
        "id": "WnqasuBUwG-_",
        "outputId": "8fb44a1c-e4da-4fbf-cc11-a4fa9868027f"
      },
      "source": [
        "model=tf.keras.models.Sequential([\n",
        "                                  tf.keras.layers.Conv2D(96, (11,11), strides=(4,4), activation='relu', input_shape=(224, 224, 3)),\n",
        "                                  tf.keras.layers.MaxPool2D(pool_size=(3,3), strides=(2,2)),\n",
        "                                  tf.keras.layers.Conv2D(256, (5,5), activation='relu'),\n",
        "                                  tf.keras.layers.MaxPool2D(pool_size=(3,3), strides=(2,2)),\n",
        "                                  tf.keras.layers.Conv2D(384, (5,5), activation='relu'),\n",
        "                                  tf.keras.layers.MaxPool2D(pool_size=(3,3), strides=(2,2)),\n",
        "                                  tf.keras.layers.Flatten(),\n",
        "                                  tf.keras.layers.Dropout(0.2),\n",
        "                                  tf.keras.layers.Dense(2048, activation='relu'),\n",
        "                                  tf.keras.layers.Dropout(0.25),\n",
        "                                  tf.keras.layers.Dense(1024, activation='relu'),\n",
        "                                  tf.keras.layers.Dropout(0.2),\n",
        "                                  tf.keras.layers.Dense(2, activation='softmax')])\n",
        "\n",
        "model.compile(loss='categorical_crossentropy',\n",
        "              optimizer='Adam',\n",
        "              metrics=['acc'])\n",
        "\n",
        "model.summary()"
      ],
      "execution_count": 7,
      "outputs": [
        {
          "output_type": "stream",
          "text": [
            "Model: \"sequential_1\"\n",
            "_________________________________________________________________\n",
            "Layer (type)                 Output Shape              Param #   \n",
            "=================================================================\n",
            "conv2d_3 (Conv2D)            (None, 54, 54, 96)        34944     \n",
            "_________________________________________________________________\n",
            "max_pooling2d_3 (MaxPooling2 (None, 26, 26, 96)        0         \n",
            "_________________________________________________________________\n",
            "conv2d_4 (Conv2D)            (None, 22, 22, 256)       614656    \n",
            "_________________________________________________________________\n",
            "max_pooling2d_4 (MaxPooling2 (None, 10, 10, 256)       0         \n",
            "_________________________________________________________________\n",
            "conv2d_5 (Conv2D)            (None, 6, 6, 384)         2457984   \n",
            "_________________________________________________________________\n",
            "max_pooling2d_5 (MaxPooling2 (None, 2, 2, 384)         0         \n",
            "_________________________________________________________________\n",
            "flatten_1 (Flatten)          (None, 1536)              0         \n",
            "_________________________________________________________________\n",
            "dropout_3 (Dropout)          (None, 1536)              0         \n",
            "_________________________________________________________________\n",
            "dense_3 (Dense)              (None, 2048)              3147776   \n",
            "_________________________________________________________________\n",
            "dropout_4 (Dropout)          (None, 2048)              0         \n",
            "_________________________________________________________________\n",
            "dense_4 (Dense)              (None, 1024)              2098176   \n",
            "_________________________________________________________________\n",
            "dropout_5 (Dropout)          (None, 1024)              0         \n",
            "_________________________________________________________________\n",
            "dense_5 (Dense)              (None, 2)                 2050      \n",
            "=================================================================\n",
            "Total params: 8,355,586\n",
            "Trainable params: 8,355,586\n",
            "Non-trainable params: 0\n",
            "_________________________________________________________________\n"
          ],
          "name": "stdout"
        }
      ]
    },
    {
      "cell_type": "code",
      "metadata": {
        "colab": {
          "base_uri": "https://localhost:8080/"
        },
        "id": "UiSKEgME16WV",
        "outputId": "6acb763d-ad07-448c-ae1b-eec79df1b461"
      },
      "source": [
        "model.fit(training_data,\n",
        "          steps_per_epoch=15,\n",
        "          validation_data = valid_data,\n",
        "          validation_steps=15,\n",
        "          epochs = 50)\n"
      ],
      "execution_count": 10,
      "outputs": [
        {
          "output_type": "stream",
          "text": [
            "Epoch 1/50\n",
            "15/15 [==============================] - 343s 24s/step - loss: 0.6905 - acc: 0.5500 - val_loss: 0.6975 - val_acc: 0.4187\n",
            "Epoch 2/50\n",
            "15/15 [==============================] - 276s 19s/step - loss: 0.6842 - acc: 0.5521 - val_loss: 0.7206 - val_acc: 0.4542\n",
            "Epoch 3/50\n",
            "15/15 [==============================] - 218s 15s/step - loss: 0.6540 - acc: 0.6104 - val_loss: 0.7734 - val_acc: 0.5479\n",
            "Epoch 4/50\n",
            "15/15 [==============================] - 180s 12s/step - loss: 0.6257 - acc: 0.6313 - val_loss: 0.7900 - val_acc: 0.4458\n",
            "Epoch 5/50\n",
            "15/15 [==============================] - 158s 11s/step - loss: 0.6540 - acc: 0.6125 - val_loss: 0.8137 - val_acc: 0.4500\n",
            "Epoch 6/50\n",
            "15/15 [==============================] - 135s 9s/step - loss: 0.6404 - acc: 0.6604 - val_loss: 0.7896 - val_acc: 0.4042\n",
            "Epoch 7/50\n",
            "15/15 [==============================] - 117s 8s/step - loss: 0.6318 - acc: 0.6687 - val_loss: 0.7240 - val_acc: 0.4500\n",
            "Epoch 8/50\n",
            "15/15 [==============================] - 102s 7s/step - loss: 0.6518 - acc: 0.6125 - val_loss: 0.7575 - val_acc: 0.3896\n",
            "Epoch 9/50\n",
            "15/15 [==============================] - 91s 6s/step - loss: 0.6270 - acc: 0.6624 - val_loss: 0.7044 - val_acc: 0.4375\n",
            "Epoch 10/50\n",
            "15/15 [==============================] - 84s 6s/step - loss: 0.6069 - acc: 0.6771 - val_loss: 0.7212 - val_acc: 0.4167\n",
            "Epoch 11/50\n",
            "15/15 [==============================] - 72s 5s/step - loss: 0.5673 - acc: 0.7083 - val_loss: 0.9016 - val_acc: 0.4417\n",
            "Epoch 12/50\n",
            "15/15 [==============================] - 58s 4s/step - loss: 0.5477 - acc: 0.7146 - val_loss: 0.8674 - val_acc: 0.4958\n",
            "Epoch 13/50\n",
            "15/15 [==============================] - 55s 4s/step - loss: 0.5304 - acc: 0.7333 - val_loss: 0.6528 - val_acc: 0.5750\n",
            "Epoch 14/50\n",
            "15/15 [==============================] - 48s 3s/step - loss: 0.5010 - acc: 0.7563 - val_loss: 0.9075 - val_acc: 0.5417\n",
            "Epoch 15/50\n",
            "15/15 [==============================] - 47s 3s/step - loss: 0.5239 - acc: 0.7375 - val_loss: 0.6288 - val_acc: 0.5979\n",
            "Epoch 16/50\n",
            "15/15 [==============================] - 43s 3s/step - loss: 0.5211 - acc: 0.7437 - val_loss: 0.6565 - val_acc: 0.6250\n",
            "Epoch 17/50\n",
            "15/15 [==============================] - 39s 3s/step - loss: 0.5107 - acc: 0.7688 - val_loss: 0.7849 - val_acc: 0.5625\n",
            "Epoch 18/50\n",
            "15/15 [==============================] - 38s 3s/step - loss: 0.5529 - acc: 0.7542 - val_loss: 0.7149 - val_acc: 0.6167\n",
            "Epoch 19/50\n",
            "15/15 [==============================] - 34s 2s/step - loss: 0.5183 - acc: 0.7646 - val_loss: 0.7116 - val_acc: 0.6292\n",
            "Epoch 20/50\n",
            "15/15 [==============================] - 31s 2s/step - loss: 0.4958 - acc: 0.7771 - val_loss: 0.7573 - val_acc: 0.6104\n",
            "Epoch 21/50\n",
            "15/15 [==============================] - 30s 2s/step - loss: 0.4816 - acc: 0.7792 - val_loss: 0.7992 - val_acc: 0.6125\n",
            "Epoch 22/50\n",
            "15/15 [==============================] - 26s 2s/step - loss: 0.4456 - acc: 0.7854 - val_loss: 0.5248 - val_acc: 0.7208\n",
            "Epoch 23/50\n",
            "15/15 [==============================] - 21s 1s/step - loss: 0.4469 - acc: 0.8083 - val_loss: 0.5234 - val_acc: 0.7292\n",
            "Epoch 24/50\n",
            "15/15 [==============================] - 23s 2s/step - loss: 0.4299 - acc: 0.8000 - val_loss: 0.4755 - val_acc: 0.7708\n",
            "Epoch 25/50\n",
            "15/15 [==============================] - 22s 1s/step - loss: 0.3828 - acc: 0.8250 - val_loss: 0.5542 - val_acc: 0.7688\n",
            "Epoch 26/50\n",
            "15/15 [==============================] - 18s 1s/step - loss: 0.3599 - acc: 0.8458 - val_loss: 0.8746 - val_acc: 0.6958\n",
            "Epoch 27/50\n",
            "15/15 [==============================] - 17s 1s/step - loss: 0.4155 - acc: 0.8271 - val_loss: 0.7085 - val_acc: 0.7063\n",
            "Epoch 28/50\n",
            "15/15 [==============================] - 17s 1s/step - loss: 0.5115 - acc: 0.7729 - val_loss: 0.5334 - val_acc: 0.7042\n",
            "Epoch 29/50\n",
            "15/15 [==============================] - 16s 1s/step - loss: 0.4510 - acc: 0.8000 - val_loss: 0.4815 - val_acc: 0.7542\n",
            "Epoch 30/50\n",
            "15/15 [==============================] - 14s 963ms/step - loss: 0.4360 - acc: 0.8229 - val_loss: 0.4852 - val_acc: 0.7604\n",
            "Epoch 31/50\n",
            "15/15 [==============================] - 16s 1s/step - loss: 0.4237 - acc: 0.8000 - val_loss: 0.5939 - val_acc: 0.7375\n",
            "Epoch 32/50\n",
            "15/15 [==============================] - 11s 727ms/step - loss: 0.3889 - acc: 0.8313 - val_loss: 0.5618 - val_acc: 0.7292\n",
            "Epoch 33/50\n",
            "15/15 [==============================] - 9s 600ms/step - loss: 0.4043 - acc: 0.8188 - val_loss: 0.5145 - val_acc: 0.7625\n",
            "Epoch 34/50\n",
            "15/15 [==============================] - 12s 812ms/step - loss: 0.3766 - acc: 0.8375 - val_loss: 0.4107 - val_acc: 0.7896\n",
            "Epoch 35/50\n",
            "15/15 [==============================] - 9s 642ms/step - loss: 0.3890 - acc: 0.8417 - val_loss: 0.4999 - val_acc: 0.7833\n",
            "Epoch 36/50\n",
            "15/15 [==============================] - 8s 509ms/step - loss: 0.3632 - acc: 0.8479 - val_loss: 0.4028 - val_acc: 0.8188\n",
            "Epoch 37/50\n",
            "15/15 [==============================] - 7s 477ms/step - loss: 0.3193 - acc: 0.8500 - val_loss: 0.4104 - val_acc: 0.8208\n",
            "Epoch 38/50\n",
            "15/15 [==============================] - 8s 541ms/step - loss: 0.3491 - acc: 0.8458 - val_loss: 0.3760 - val_acc: 0.8292\n",
            "Epoch 39/50\n",
            "15/15 [==============================] - 6s 430ms/step - loss: 0.3003 - acc: 0.8646 - val_loss: 0.4112 - val_acc: 0.8146\n",
            "Epoch 40/50\n",
            "15/15 [==============================] - 6s 399ms/step - loss: 0.3261 - acc: 0.8583 - val_loss: 0.3574 - val_acc: 0.8354\n",
            "Epoch 41/50\n",
            "15/15 [==============================] - 7s 459ms/step - loss: 0.3449 - acc: 0.8547 - val_loss: 0.6329 - val_acc: 0.6625\n",
            "Epoch 42/50\n",
            "15/15 [==============================] - 7s 394ms/step - loss: 0.3716 - acc: 0.8440 - val_loss: 0.4897 - val_acc: 0.7917\n",
            "Epoch 43/50\n",
            "15/15 [==============================] - 4s 291ms/step - loss: 0.3146 - acc: 0.8750 - val_loss: 0.4204 - val_acc: 0.8292\n",
            "Epoch 44/50\n",
            "15/15 [==============================] - 6s 419ms/step - loss: 0.2917 - acc: 0.8792 - val_loss: 0.4399 - val_acc: 0.7854\n",
            "Epoch 45/50\n",
            "15/15 [==============================] - 6s 370ms/step - loss: 0.3080 - acc: 0.8667 - val_loss: 0.6136 - val_acc: 0.7875\n",
            "Epoch 46/50\n",
            "15/15 [==============================] - 5s 340ms/step - loss: 0.4251 - acc: 0.8188 - val_loss: 0.4752 - val_acc: 0.7792\n",
            "Epoch 47/50\n",
            "15/15 [==============================] - 5s 311ms/step - loss: 0.3521 - acc: 0.8625 - val_loss: 0.5891 - val_acc: 0.7792\n",
            "Epoch 48/50\n",
            "15/15 [==============================] - 4s 251ms/step - loss: 0.3936 - acc: 0.8667 - val_loss: 0.3863 - val_acc: 0.8146\n",
            "Epoch 49/50\n",
            "15/15 [==============================] - 6s 338ms/step - loss: 0.3488 - acc: 0.8604 - val_loss: 0.4410 - val_acc: 0.7812\n",
            "Epoch 50/50\n",
            "15/15 [==============================] - 5s 336ms/step - loss: 0.3038 - acc: 0.8739 - val_loss: 0.4015 - val_acc: 0.8104\n"
          ],
          "name": "stdout"
        },
        {
          "output_type": "execute_result",
          "data": {
            "text/plain": [
              "<tensorflow.python.keras.callbacks.History at 0x7f6853fbbd50>"
            ]
          },
          "metadata": {
            "tags": []
          },
          "execution_count": 10
        }
      ]
    }
  ]
}