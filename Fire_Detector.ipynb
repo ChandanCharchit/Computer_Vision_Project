{
  "nbformat": 4,
  "nbformat_minor": 0,
  "metadata": {
    "colab": {
      "name": "Fire Detector.ipynb",
      "provenance": [],
      "mount_file_id": "1zquoHJz-2NZZ6gvvbbDVylwGo4WkVVFY",
      "authorship_tag": "ABX9TyMhwHQkeeoUMkAHXENhub6f",
      "include_colab_link": true
    },
    "kernelspec": {
      "name": "python3",
      "display_name": "Python 3"
    },
    "language_info": {
      "name": "python"
    },
    "accelerator": "GPU"
  },
  "cells": [
    {
      "cell_type": "markdown",
      "metadata": {
        "id": "view-in-github",
        "colab_type": "text"
      },
      "source": [
        "<a href=\"https://colab.research.google.com/github/ChandanCharchit/Computer_Vision_Project/blob/main/Fire_Detector.ipynb\" target=\"_parent\"><img src=\"https://colab.research.google.com/assets/colab-badge.svg\" alt=\"Open In Colab\"/></a>"
      ]
    },
    {
      "cell_type": "code",
      "metadata": {
        "id": "7FK2pefbvr2z"
      },
      "source": [
        "import tensorflow as tf\n",
        "import numpy as np\n",
        "import cv2\n",
        "import PIL\n",
        "\n",
        "import matplotlib.pyplot as plt\n",
        "import pandas as pd\n",
        "import seaborn\n",
        "import os\n",
        "import matplotlib.image as mpimg\n",
        "%matplotlib inline\n",
        "import keras_preprocessing\n",
        "from keras_preprocessing import image\n",
        "from keras_preprocessing.image import ImageDataGenerator\n",
        "import shutil"
      ],
      "execution_count": 1,
      "outputs": []
    },
    {
      "cell_type": "code",
      "metadata": {
        "id": "WGPGemz7oRga"
      },
      "source": [
        "train_path='/content/drive/MyDrive/Datasets/Fire data/Train'\n",
        "val_path='/content/drive/MyDrive/Datasets/Fire data/Vali'\n",
        "test_path='/content/drive/MyDrive/Datasets/Fire data/Test'"
      ],
      "execution_count": 2,
      "outputs": []
    },
    {
      "cell_type": "code",
      "metadata": {
        "colab": {
          "base_uri": "https://localhost:8080/"
        },
        "id": "ACvNAykP0LZi",
        "outputId": "3022e2be-995b-4983-d873-6da29253470f"
      },
      "source": [
        "!nvidia-smi"
      ],
      "execution_count": 3,
      "outputs": [
        {
          "output_type": "stream",
          "text": [
            "Fri Apr  2 03:37:24 2021       \n",
            "+-----------------------------------------------------------------------------+\n",
            "| NVIDIA-SMI 460.67       Driver Version: 460.32.03    CUDA Version: 11.2     |\n",
            "|-------------------------------+----------------------+----------------------+\n",
            "| GPU  Name        Persistence-M| Bus-Id        Disp.A | Volatile Uncorr. ECC |\n",
            "| Fan  Temp  Perf  Pwr:Usage/Cap|         Memory-Usage | GPU-Util  Compute M. |\n",
            "|                               |                      |               MIG M. |\n",
            "|===============================+======================+======================|\n",
            "|   0  Tesla T4            Off  | 00000000:00:04.0 Off |                    0 |\n",
            "| N/A   35C    P8     9W /  70W |      0MiB / 15109MiB |      0%      Default |\n",
            "|                               |                      |                  N/A |\n",
            "+-------------------------------+----------------------+----------------------+\n",
            "                                                                               \n",
            "+-----------------------------------------------------------------------------+\n",
            "| Processes:                                                                  |\n",
            "|  GPU   GI   CI        PID   Type   Process name                  GPU Memory |\n",
            "|        ID   ID                                                   Usage      |\n",
            "|=============================================================================|\n",
            "|  No running processes found                                                 |\n",
            "+-----------------------------------------------------------------------------+\n"
          ],
          "name": "stdout"
        }
      ]
    },
    {
      "cell_type": "code",
      "metadata": {
        "id": "ERC4Hg794uC3",
        "colab": {
          "base_uri": "https://localhost:8080/"
        },
        "outputId": "9425b93a-dbeb-4a56-c6f6-ccd0d07ef439"
      },
      "source": [
        "training_datagen=ImageDataGenerator(rescale=1./255)\n",
        "\n",
        "validation_datagen=ImageDataGenerator(rescale=1./255)\n",
        "\n",
        "training_data=training_datagen.flow_from_directory(train_path,\n",
        "                                                   target_size=(227,227),\n",
        "                                                   class_mode='categorical',\n",
        "                                                   batch_size=32)\n",
        "\n",
        "valid_data=training_datagen.flow_from_directory(val_path,\n",
        "                                                   target_size=(227,227),\n",
        "                                                   class_mode='categorical',\n",
        "                                                   batch_size=32)"
      ],
      "execution_count": 4,
      "outputs": [
        {
          "output_type": "stream",
          "text": [
            "Found 6004 images belonging to 2 classes.\n",
            "Found 2000 images belonging to 2 classes.\n"
          ],
          "name": "stdout"
        }
      ]
    },
    {
      "cell_type": "markdown",
      "metadata": {
        "id": "rwUTYObBwHZd"
      },
      "source": [
        "**Model**"
      ]
    },
    {
      "cell_type": "code",
      "metadata": {
        "colab": {
          "base_uri": "https://localhost:8080/"
        },
        "id": "WnqasuBUwG-_",
        "outputId": "b6f921ad-0b72-4dd8-9bf2-c17c036a4066"
      },
      "source": [
        "model=tf.keras.models.Sequential([\n",
        "                                  tf.keras.layers.Conv2D(96, (11,11), strides=(4,4), activation='relu', input_shape=(227, 227, 3)),\n",
        "                                  tf.keras.layers.MaxPool2D(pool_size=(3,3), strides=(2,2)),\n",
        "                                  tf.keras.layers.Conv2D(256, (5,5), activation='relu'),\n",
        "                                  tf.keras.layers.MaxPool2D(pool_size=(3,3), strides=(2,2)),\n",
        "                                  tf.keras.layers.Conv2D(384, (5,5), activation='relu'),\n",
        "                                  tf.keras.layers.MaxPool2D(pool_size=(3,3), strides=(2,2)),\n",
        "                                  tf.keras.layers.Flatten(),\n",
        "                                  tf.keras.layers.Dropout(0.2),\n",
        "                                  tf.keras.layers.Dense(4096, activation='relu'),\n",
        "                                  tf.keras.layers.Dropout(0.25),\n",
        "                                  tf.keras.layers.Dense(2048, activation='relu'),\n",
        "                                  tf.keras.layers.Dropout(0.2),\n",
        "                                  tf.keras.layers.Dense(2, activation='softmax')])\n",
        "\n",
        "model.compile(loss='categorical_crossentropy',\n",
        "              optimizer='Adam',\n",
        "              metrics=['acc'])\n",
        "\n",
        "model.summary()"
      ],
      "execution_count": 5,
      "outputs": [
        {
          "output_type": "stream",
          "text": [
            "Model: \"sequential\"\n",
            "_________________________________________________________________\n",
            "Layer (type)                 Output Shape              Param #   \n",
            "=================================================================\n",
            "conv2d (Conv2D)              (None, 55, 55, 96)        34944     \n",
            "_________________________________________________________________\n",
            "max_pooling2d (MaxPooling2D) (None, 27, 27, 96)        0         \n",
            "_________________________________________________________________\n",
            "conv2d_1 (Conv2D)            (None, 23, 23, 256)       614656    \n",
            "_________________________________________________________________\n",
            "max_pooling2d_1 (MaxPooling2 (None, 11, 11, 256)       0         \n",
            "_________________________________________________________________\n",
            "conv2d_2 (Conv2D)            (None, 7, 7, 384)         2457984   \n",
            "_________________________________________________________________\n",
            "max_pooling2d_2 (MaxPooling2 (None, 3, 3, 384)         0         \n",
            "_________________________________________________________________\n",
            "flatten (Flatten)            (None, 3456)              0         \n",
            "_________________________________________________________________\n",
            "dropout (Dropout)            (None, 3456)              0         \n",
            "_________________________________________________________________\n",
            "dense (Dense)                (None, 4096)              14159872  \n",
            "_________________________________________________________________\n",
            "dropout_1 (Dropout)          (None, 4096)              0         \n",
            "_________________________________________________________________\n",
            "dense_1 (Dense)              (None, 2048)              8390656   \n",
            "_________________________________________________________________\n",
            "dropout_2 (Dropout)          (None, 2048)              0         \n",
            "_________________________________________________________________\n",
            "dense_2 (Dense)              (None, 2)                 4098      \n",
            "=================================================================\n",
            "Total params: 25,662,210\n",
            "Trainable params: 25,662,210\n",
            "Non-trainable params: 0\n",
            "_________________________________________________________________\n"
          ],
          "name": "stdout"
        }
      ]
    },
    {
      "cell_type": "code",
      "metadata": {
        "colab": {
          "base_uri": "https://localhost:8080/"
        },
        "id": "UiSKEgME16WV",
        "outputId": "2b69c703-dcf7-4ccc-e6b6-4c3a1759a412"
      },
      "source": [
        "history=model.fit(training_data,\n",
        "          steps_per_epoch=15,\n",
        "          validation_data = valid_data,\n",
        "          validation_steps=15,\n",
        "          epochs = 50)\n"
      ],
      "execution_count": 6,
      "outputs": [
        {
          "output_type": "stream",
          "text": [
            "Epoch 1/50\n",
            "15/15 [==============================] - 307s 19s/step - loss: 1.5795 - acc: 0.5006 - val_loss: 0.7001 - val_acc: 0.5021\n",
            "Epoch 2/50\n",
            "15/15 [==============================] - 220s 15s/step - loss: 0.6964 - acc: 0.5148 - val_loss: 0.7384 - val_acc: 0.5167\n",
            "Epoch 3/50\n",
            "15/15 [==============================] - 188s 13s/step - loss: 0.6687 - acc: 0.5809 - val_loss: 0.7183 - val_acc: 0.4583\n",
            "Epoch 4/50\n",
            "15/15 [==============================] - 151s 10s/step - loss: 0.6766 - acc: 0.5628 - val_loss: 0.7203 - val_acc: 0.4938\n",
            "Epoch 5/50\n",
            "15/15 [==============================] - 139s 10s/step - loss: 0.6407 - acc: 0.6327 - val_loss: 0.7297 - val_acc: 0.4458\n",
            "Epoch 6/50\n",
            "15/15 [==============================] - 103s 7s/step - loss: 0.6261 - acc: 0.6439 - val_loss: 1.0116 - val_acc: 0.4875\n",
            "Epoch 7/50\n",
            "15/15 [==============================] - 100s 7s/step - loss: 0.5860 - acc: 0.6624 - val_loss: 0.6651 - val_acc: 0.6250\n",
            "Epoch 8/50\n",
            "15/15 [==============================] - 84s 6s/step - loss: 0.5922 - acc: 0.7101 - val_loss: 0.6224 - val_acc: 0.6854\n",
            "Epoch 9/50\n",
            "15/15 [==============================] - 74s 5s/step - loss: 0.5462 - acc: 0.7403 - val_loss: 0.5103 - val_acc: 0.7604\n",
            "Epoch 10/50\n",
            "15/15 [==============================] - 69s 5s/step - loss: 0.4996 - acc: 0.7829 - val_loss: 0.6185 - val_acc: 0.7354\n",
            "Epoch 11/50\n",
            "15/15 [==============================] - 61s 4s/step - loss: 0.4206 - acc: 0.8243 - val_loss: 0.4338 - val_acc: 0.7937\n",
            "Epoch 12/50\n",
            "15/15 [==============================] - 49s 3s/step - loss: 0.4400 - acc: 0.8391 - val_loss: 0.3675 - val_acc: 0.8417\n",
            "Epoch 13/50\n",
            "15/15 [==============================] - 48s 3s/step - loss: 0.3956 - acc: 0.8143 - val_loss: 0.4866 - val_acc: 0.7542\n",
            "Epoch 14/50\n",
            "15/15 [==============================] - 42s 3s/step - loss: 0.3693 - acc: 0.8475 - val_loss: 0.3732 - val_acc: 0.8021\n",
            "Epoch 15/50\n",
            "15/15 [==============================] - 44s 3s/step - loss: 0.3528 - acc: 0.8509 - val_loss: 0.3985 - val_acc: 0.7958\n",
            "Epoch 16/50\n",
            "15/15 [==============================] - 33s 2s/step - loss: 0.4153 - acc: 0.8234 - val_loss: 0.5549 - val_acc: 0.7437\n",
            "Epoch 17/50\n",
            "15/15 [==============================] - 33s 2s/step - loss: 0.4352 - acc: 0.7570 - val_loss: 0.3479 - val_acc: 0.8229\n",
            "Epoch 18/50\n",
            "15/15 [==============================] - 32s 2s/step - loss: 0.3810 - acc: 0.8383 - val_loss: 0.4023 - val_acc: 0.7937\n",
            "Epoch 19/50\n",
            "15/15 [==============================] - 29s 2s/step - loss: 0.3050 - acc: 0.8691 - val_loss: 0.3421 - val_acc: 0.8479\n",
            "Epoch 20/50\n",
            "15/15 [==============================] - 25s 2s/step - loss: 0.3364 - acc: 0.8669 - val_loss: 0.3223 - val_acc: 0.8375\n",
            "Epoch 21/50\n",
            "15/15 [==============================] - 29s 2s/step - loss: 0.3478 - acc: 0.8703 - val_loss: 0.4187 - val_acc: 0.8521\n",
            "Epoch 22/50\n",
            "15/15 [==============================] - 23s 2s/step - loss: 0.3993 - acc: 0.8468 - val_loss: 0.3394 - val_acc: 0.8354\n",
            "Epoch 23/50\n",
            "15/15 [==============================] - 18s 1s/step - loss: 0.3287 - acc: 0.8792 - val_loss: 0.3552 - val_acc: 0.8438\n",
            "Epoch 24/50\n",
            "15/15 [==============================] - 18s 1s/step - loss: 0.3964 - acc: 0.8645 - val_loss: 0.3215 - val_acc: 0.8417\n",
            "Epoch 25/50\n",
            "15/15 [==============================] - 16s 997ms/step - loss: 0.3006 - acc: 0.8817 - val_loss: 0.3327 - val_acc: 0.8667\n",
            "Epoch 26/50\n",
            "15/15 [==============================] - 16s 1s/step - loss: 0.3428 - acc: 0.8696 - val_loss: 0.3088 - val_acc: 0.8583\n",
            "Epoch 27/50\n",
            "15/15 [==============================] - 19s 1s/step - loss: 0.2558 - acc: 0.8901 - val_loss: 0.2578 - val_acc: 0.8813\n",
            "Epoch 28/50\n",
            "15/15 [==============================] - 13s 858ms/step - loss: 0.4132 - acc: 0.8048 - val_loss: 0.5717 - val_acc: 0.7708\n",
            "Epoch 29/50\n",
            "15/15 [==============================] - 13s 893ms/step - loss: 0.3775 - acc: 0.8389 - val_loss: 0.3312 - val_acc: 0.8542\n",
            "Epoch 30/50\n",
            "15/15 [==============================] - 15s 984ms/step - loss: 0.3343 - acc: 0.8573 - val_loss: 0.2635 - val_acc: 0.8854\n",
            "Epoch 31/50\n",
            "15/15 [==============================] - 15s 990ms/step - loss: 0.3510 - acc: 0.8114 - val_loss: 0.2388 - val_acc: 0.8979\n",
            "Epoch 32/50\n",
            "15/15 [==============================] - 10s 729ms/step - loss: 0.3090 - acc: 0.8609 - val_loss: 0.3368 - val_acc: 0.8479\n",
            "Epoch 33/50\n",
            "15/15 [==============================] - 10s 654ms/step - loss: 0.3149 - acc: 0.8576 - val_loss: 0.3908 - val_acc: 0.8208\n",
            "Epoch 34/50\n",
            "15/15 [==============================] - 10s 678ms/step - loss: 0.2620 - acc: 0.8818 - val_loss: 0.3820 - val_acc: 0.8292\n",
            "Epoch 35/50\n",
            "15/15 [==============================] - 10s 678ms/step - loss: 0.2455 - acc: 0.8905 - val_loss: 0.3468 - val_acc: 0.8562\n",
            "Epoch 36/50\n",
            "15/15 [==============================] - 8s 578ms/step - loss: 0.3376 - acc: 0.8671 - val_loss: 0.3732 - val_acc: 0.8271\n",
            "Epoch 37/50\n",
            "15/15 [==============================] - 6s 400ms/step - loss: 0.3453 - acc: 0.8553 - val_loss: 0.2918 - val_acc: 0.8521\n",
            "Epoch 38/50\n",
            "15/15 [==============================] - 7s 509ms/step - loss: 0.2672 - acc: 0.8812 - val_loss: 0.2884 - val_acc: 0.8729\n",
            "Epoch 39/50\n",
            "15/15 [==============================] - 4s 285ms/step - loss: 0.2850 - acc: 0.8654 - val_loss: 0.3450 - val_acc: 0.8479\n",
            "Epoch 40/50\n",
            "15/15 [==============================] - 5s 313ms/step - loss: 0.2328 - acc: 0.8918 - val_loss: 0.3295 - val_acc: 0.8750\n",
            "Epoch 41/50\n",
            "15/15 [==============================] - 5s 339ms/step - loss: 0.2349 - acc: 0.8889 - val_loss: 0.3466 - val_acc: 0.8583\n",
            "Epoch 42/50\n",
            "15/15 [==============================] - 5s 381ms/step - loss: 0.3574 - acc: 0.8555 - val_loss: 0.3610 - val_acc: 0.8208\n",
            "Epoch 43/50\n",
            "15/15 [==============================] - 5s 382ms/step - loss: 0.2646 - acc: 0.8927 - val_loss: 0.3050 - val_acc: 0.8562\n",
            "Epoch 44/50\n",
            "15/15 [==============================] - 4s 279ms/step - loss: 0.3097 - acc: 0.8761 - val_loss: 0.2880 - val_acc: 0.8771\n",
            "Epoch 45/50\n",
            "15/15 [==============================] - 7s 459ms/step - loss: 0.3062 - acc: 0.8799 - val_loss: 0.3139 - val_acc: 0.8458\n",
            "Epoch 46/50\n",
            "15/15 [==============================] - 6s 342ms/step - loss: 0.2808 - acc: 0.8868 - val_loss: 0.2613 - val_acc: 0.8813\n",
            "Epoch 47/50\n",
            "15/15 [==============================] - 4s 282ms/step - loss: 0.2510 - acc: 0.8949 - val_loss: 0.3179 - val_acc: 0.8500\n",
            "Epoch 48/50\n",
            "15/15 [==============================] - 5s 301ms/step - loss: 0.2366 - acc: 0.9041 - val_loss: 0.2746 - val_acc: 0.8896\n",
            "Epoch 49/50\n",
            "15/15 [==============================] - 4s 310ms/step - loss: 0.2792 - acc: 0.8795 - val_loss: 0.2373 - val_acc: 0.8917\n",
            "Epoch 50/50\n",
            "15/15 [==============================] - 4s 276ms/step - loss: 0.3052 - acc: 0.8700 - val_loss: 0.2558 - val_acc: 0.8792\n"
          ],
          "name": "stdout"
        }
      ]
    },
    {
      "cell_type": "code",
      "metadata": {
        "id": "_L3PgVlPNiAz",
        "colab": {
          "base_uri": "https://localhost:8080/",
          "height": 580
        },
        "outputId": "60b829ec-9866-41e7-eba8-a6499cdf7d53"
      },
      "source": [
        "acc = history.history['acc']\n",
        "val_acc = history.history['val_acc']\n",
        "loss = history.history['loss']\n",
        "val_loss = history.history['val_loss']\n",
        "\n",
        "epochs = range(len(acc))\n",
        "\n",
        "plt.plot(epochs, acc, 'g', label='Training accuracy')\n",
        "plt.plot(epochs, val_acc, 'b', label='Validation accuracy')\n",
        "plt.title('Training and validation accuracy')\n",
        "plt.legend(loc=0)\n",
        "plt.figure()\n",
        "plt.show()\n",
        "\n",
        "plt.plot(epochs, loss, 'r', label='Training loss')\n",
        "plt.plot(epochs, val_loss, 'orange', label='Validation loss')\n",
        "plt.title('Training and validation loss')\n",
        "\n",
        "plt.legend(loc=0)\n",
        "plt.figure()\n",
        "plt.show()"
      ],
      "execution_count": 7,
      "outputs": [
        {
          "output_type": "display_data",
          "data": {
            "image/png": "[encoded data removed]",
            "text/plain": [
              "<Figure size 432x288 with 1 Axes>"
            ]
          },
          "metadata": {
            "tags": [],
            "needs_background": "light"
          }
        },
        {
          "output_type": "display_data",
          "data": {
            "text/plain": [
              "<Figure size 432x288 with 0 Axes>"
            ]
          },
          "metadata": {
            "tags": []
          }
        },
        {
          "output_type": "display_data",
          "data": {
            "image/png": "[encoded data removed]",
            "text/plain": [
              "<Figure size 432x288 with 1 Axes>"
            ]
          },
          "metadata": {
            "tags": [],
            "needs_background": "light"
          }
        },
        {
          "output_type": "display_data",
          "data": {
            "text/plain": [
              "<Figure size 432x288 with 0 Axes>"
            ]
          },
          "metadata": {
            "tags": []
          }
        }
      ]
    }
  ]
}