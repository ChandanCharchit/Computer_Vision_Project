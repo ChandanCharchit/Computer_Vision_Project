{
  "nbformat": 4,
  "nbformat_minor": 0,
  "metadata": {
    "colab": {
      "name": "Fire Detector.ipynb",
      "provenance": [],
      "mount_file_id": "1zquoHJz-2NZZ6gvvbbDVylwGo4WkVVFY",
      "authorship_tag": "ABX9TyN+4+FC5SbcdpCYlMdqAtwN",
      "include_colab_link": true
    },
    "kernelspec": {
      "name": "python3",
      "display_name": "Python 3"
    },
    "language_info": {
      "name": "python"
    },
    "accelerator": "GPU"
  },
  "cells": [
    {
      "cell_type": "markdown",
      "metadata": {
        "id": "view-in-github",
        "colab_type": "text"
      },
      "source": [
        "<a href=\"https://colab.research.google.com/github/ChandanCharchit/Computer_Vision_Project/blob/main/Fire_Detector.ipynb\" target=\"_parent\"><img src=\"https://colab.research.google.com/assets/colab-badge.svg\" alt=\"Open In Colab\"/></a>"
      ]
    },
    {
      "cell_type": "code",
      "metadata": {
        "id": "7FK2pefbvr2z"
      },
      "source": [
        "import tensorflow as tf\n",
        "import numpy as np\n",
        "import cv2\n",
        "import PIL\n",
        "\n",
        "import matplotlib.pyplot as plt\n",
        "import pandas as pd\n",
        "import seaborn\n",
        "import os\n",
        "import matplotlib.image as mpimg\n",
        "%matplotlib inline\n",
        "import keras_preprocessing\n",
        "from keras_preprocessing import image\n",
        "from keras_preprocessing.image import ImageDataGenerator\n",
        "import shutil"
      ],
      "execution_count": 1,
      "outputs": []
    },
    {
      "cell_type": "code",
      "metadata": {
        "id": "WGPGemz7oRga"
      },
      "source": [
        "train_path='/content/drive/MyDrive/Datasets/Fire data/Train'\n",
        "val_path='/content/drive/MyDrive/Datasets/Fire data/Vali'\n",
        "test_path='/content/drive/MyDrive/Datasets/Fire data/Test'"
      ],
      "execution_count": 2,
      "outputs": []
    },
    {
      "cell_type": "code",
      "metadata": {
        "colab": {
          "base_uri": "https://localhost:8080/"
        },
        "id": "ACvNAykP0LZi",
        "outputId": "bb6b278c-c7d8-4181-b8c3-a8d53d61f610"
      },
      "source": [
        "!nvidia-smi"
      ],
      "execution_count": 3,
      "outputs": [
        {
          "output_type": "stream",
          "text": [
            "Sun Apr  4 09:33:46 2021       \n",
            "+-----------------------------------------------------------------------------+\n",
            "| NVIDIA-SMI 460.67       Driver Version: 460.32.03    CUDA Version: 11.2     |\n",
            "|-------------------------------+----------------------+----------------------+\n",
            "| GPU  Name        Persistence-M| Bus-Id        Disp.A | Volatile Uncorr. ECC |\n",
            "| Fan  Temp  Perf  Pwr:Usage/Cap|         Memory-Usage | GPU-Util  Compute M. |\n",
            "|                               |                      |               MIG M. |\n",
            "|===============================+======================+======================|\n",
            "|   0  Tesla T4            Off  | 00000000:00:04.0 Off |                    0 |\n",
            "| N/A   47C    P8    10W /  70W |      0MiB / 15109MiB |      0%      Default |\n",
            "|                               |                      |                  N/A |\n",
            "+-------------------------------+----------------------+----------------------+\n",
            "                                                                               \n",
            "+-----------------------------------------------------------------------------+\n",
            "| Processes:                                                                  |\n",
            "|  GPU   GI   CI        PID   Type   Process name                  GPU Memory |\n",
            "|        ID   ID                                                   Usage      |\n",
            "|=============================================================================|\n",
            "|  No running processes found                                                 |\n",
            "+-----------------------------------------------------------------------------+\n"
          ],
          "name": "stdout"
        }
      ]
    },
    {
      "cell_type": "code",
      "metadata": {
        "id": "ERC4Hg794uC3",
        "colab": {
          "base_uri": "https://localhost:8080/"
        },
        "outputId": "ad3250c5-3970-4508-bf3d-c32dcdb88f4b"
      },
      "source": [
        "training_datagen=ImageDataGenerator(rescale=1./255)\n",
        "\n",
        "validation_datagen=ImageDataGenerator(rescale=1./255)\n",
        "\n",
        "training_data=training_datagen.flow_from_directory(train_path,\n",
        "                                                   target_size=(227,227),\n",
        "                                                   class_mode='binary',\n",
        "                                                   batch_size=158)\n",
        "\n",
        "valid_data=validation_datagen.flow_from_directory(val_path,\n",
        "                                                  target_size=(227,227),\n",
        "                                                  class_mode='binary',\n",
        "                                                  batch_size=100)\n",
        "\n"
      ],
      "execution_count": 4,
      "outputs": [
        {
          "output_type": "stream",
          "text": [
            "Found 6004 images belonging to 2 classes.\n",
            "Found 2000 images belonging to 2 classes.\n"
          ],
          "name": "stdout"
        }
      ]
    },
    {
      "cell_type": "code",
      "metadata": {
        "colab": {
          "base_uri": "https://localhost:8080/"
        },
        "id": "ORk0JedZEC2X",
        "outputId": "1867cf83-322f-4308-cce5-93ec01f72f08"
      },
      "source": [
        "training_data.next()[1]"
      ],
      "execution_count": 5,
      "outputs": [
        {
          "output_type": "execute_result",
          "data": {
            "text/plain": [
              "array([1., 1., 1., 1., 1., 1., 1., 1., 0., 0., 1., 0., 1., 1., 1., 1., 0.,\n",
              "       1., 0., 0., 0., 0., 0., 1., 0., 0., 1., 1., 0., 1., 0., 1., 0., 1.,\n",
              "       0., 0., 0., 0., 0., 1., 1., 1., 0., 0., 0., 0., 0., 1., 1., 0., 0.,\n",
              "       1., 0., 0., 0., 0., 0., 0., 0., 0., 1., 1., 0., 1., 1., 1., 0., 1.,\n",
              "       1., 1., 1., 1., 0., 0., 1., 0., 1., 1., 0., 1., 0., 0., 1., 0., 0.,\n",
              "       1., 1., 1., 1., 0., 0., 1., 0., 1., 0., 0., 0., 0., 1., 0., 1., 0.,\n",
              "       0., 1., 1., 0., 0., 1., 1., 1., 1., 0., 1., 0., 1., 1., 1., 0., 0.,\n",
              "       0., 1., 1., 0., 0., 0., 1., 1., 0., 1., 1., 0., 0., 1., 0., 1., 1.,\n",
              "       1., 1., 0., 1., 0., 0., 1., 1., 1., 1., 1., 0., 1., 0., 0., 1., 0.,\n",
              "       0., 0., 0., 1., 1.], dtype=float32)"
            ]
          },
          "metadata": {
            "tags": []
          },
          "execution_count": 5
        }
      ]
    },
    {
      "cell_type": "code",
      "metadata": {
        "id": "Ec5H0pSRqQ9p"
      },
      "source": [
        "from tensorflow.keras.optimizers import RMSprop"
      ],
      "execution_count": 6,
      "outputs": []
    },
    {
      "cell_type": "markdown",
      "metadata": {
        "id": "rwUTYObBwHZd"
      },
      "source": [
        "**Model**"
      ]
    },
    {
      "cell_type": "code",
      "metadata": {
        "colab": {
          "base_uri": "https://localhost:8080/"
        },
        "id": "WnqasuBUwG-_",
        "outputId": "d5f9f330-26ef-47a1-8767-d0b2d849f0c7"
      },
      "source": [
        "model=tf.keras.models.Sequential([\n",
        "                                  tf.keras.layers.Conv2D(96, (11,11), strides=(4,4), activation='relu', input_shape=(227, 227, 3)),\n",
        "                                  tf.keras.layers.MaxPool2D(pool_size=(3,3), strides=(2,2)),\n",
        "                                  tf.keras.layers.Conv2D(256, (5,5), activation='relu'),\n",
        "                                  tf.keras.layers.MaxPool2D(pool_size=(3,3), strides=(2,2)),\n",
        "                                  tf.keras.layers.Conv2D(384, (5,5), activation='relu'),\n",
        "                                  tf.keras.layers.MaxPool2D(pool_size=(3,3), strides=(2,2)),\n",
        "                                  tf.keras.layers.Flatten(),\n",
        "                                  tf.keras.layers.Dropout(0.2),\n",
        "                                  tf.keras.layers.Dense(1024, activation='relu'),\n",
        "                                  tf.keras.layers.Dropout(0.25),\n",
        "                                  tf.keras.layers.Dense(128, activation='relu'),\n",
        "                                  tf.keras.layers.Dropout(0.2),\n",
        "                                  tf.keras.layers.Dense(1, activation='sigmoid')])\n",
        "\n",
        "model.compile(loss='binary_crossentropy',\n",
        "              optimizer=RMSprop(lr=0.001),\n",
        "              metrics=['acc'])\n",
        "\n",
        "model.summary()"
      ],
      "execution_count": 7,
      "outputs": [
        {
          "output_type": "stream",
          "text": [
            "Model: \"sequential\"\n",
            "_________________________________________________________________\n",
            "Layer (type)                 Output Shape              Param #   \n",
            "=================================================================\n",
            "conv2d (Conv2D)              (None, 55, 55, 96)        34944     \n",
            "_________________________________________________________________\n",
            "max_pooling2d (MaxPooling2D) (None, 27, 27, 96)        0         \n",
            "_________________________________________________________________\n",
            "conv2d_1 (Conv2D)            (None, 23, 23, 256)       614656    \n",
            "_________________________________________________________________\n",
            "max_pooling2d_1 (MaxPooling2 (None, 11, 11, 256)       0         \n",
            "_________________________________________________________________\n",
            "conv2d_2 (Conv2D)            (None, 7, 7, 384)         2457984   \n",
            "_________________________________________________________________\n",
            "max_pooling2d_2 (MaxPooling2 (None, 3, 3, 384)         0         \n",
            "_________________________________________________________________\n",
            "flatten (Flatten)            (None, 3456)              0         \n",
            "_________________________________________________________________\n",
            "dropout (Dropout)            (None, 3456)              0         \n",
            "_________________________________________________________________\n",
            "dense (Dense)                (None, 1024)              3539968   \n",
            "_________________________________________________________________\n",
            "dropout_1 (Dropout)          (None, 1024)              0         \n",
            "_________________________________________________________________\n",
            "dense_1 (Dense)              (None, 128)               131200    \n",
            "_________________________________________________________________\n",
            "dropout_2 (Dropout)          (None, 128)               0         \n",
            "_________________________________________________________________\n",
            "dense_2 (Dense)              (None, 1)                 129       \n",
            "=================================================================\n",
            "Total params: 6,778,881\n",
            "Trainable params: 6,778,881\n",
            "Non-trainable params: 0\n",
            "_________________________________________________________________\n"
          ],
          "name": "stdout"
        }
      ]
    },
    {
      "cell_type": "code",
      "metadata": {
        "colab": {
          "base_uri": "https://localhost:8080/"
        },
        "id": "UiSKEgME16WV",
        "outputId": "58cf58d7-8e5e-4a04-e6e3-8c7dcd2e63a7"
      },
      "source": [
        "history=model.fit(training_data,\n",
        "                  steps_per_epoch=38,\n",
        "                  epochs = 50,\n",
        "                  validation_data = valid_data,\n",
        "                  validation_steps=20\n",
        "                  )\n"
      ],
      "execution_count": 8,
      "outputs": [
        {
          "output_type": "stream",
          "text": [
            "Epoch 1/50\n",
            "38/38 [==============================] - 2406s 63s/step - loss: 6.8670 - acc: 0.5328 - val_loss: 0.7412 - val_acc: 0.5000\n",
            "Epoch 2/50\n",
            "38/38 [==============================] - 20s 534ms/step - loss: 0.8363 - acc: 0.5740 - val_loss: 0.8311 - val_acc: 0.5120\n",
            "Epoch 3/50\n",
            "38/38 [==============================] - 20s 535ms/step - loss: 0.6909 - acc: 0.6466 - val_loss: 0.6767 - val_acc: 0.5855\n",
            "Epoch 4/50\n",
            "38/38 [==============================] - 21s 545ms/step - loss: 0.6733 - acc: 0.6902 - val_loss: 0.6222 - val_acc: 0.5760\n",
            "Epoch 5/50\n",
            "38/38 [==============================] - 20s 532ms/step - loss: 0.6443 - acc: 0.6791 - val_loss: 0.7317 - val_acc: 0.6090\n",
            "Epoch 6/50\n",
            "38/38 [==============================] - 20s 536ms/step - loss: 0.6514 - acc: 0.7095 - val_loss: 0.4826 - val_acc: 0.7950\n",
            "Epoch 7/50\n",
            "38/38 [==============================] - 20s 536ms/step - loss: 0.5952 - acc: 0.7502 - val_loss: 0.6535 - val_acc: 0.5910\n",
            "Epoch 8/50\n",
            "38/38 [==============================] - 20s 535ms/step - loss: 0.5328 - acc: 0.7673 - val_loss: 0.4757 - val_acc: 0.7665\n",
            "Epoch 9/50\n",
            "38/38 [==============================] - 20s 537ms/step - loss: 0.4307 - acc: 0.8181 - val_loss: 0.6807 - val_acc: 0.7610\n",
            "Epoch 10/50\n",
            "38/38 [==============================] - 20s 535ms/step - loss: 0.4159 - acc: 0.8269 - val_loss: 4.6686 - val_acc: 0.5000\n",
            "Epoch 11/50\n",
            "38/38 [==============================] - 20s 538ms/step - loss: 0.6301 - acc: 0.7991 - val_loss: 0.3423 - val_acc: 0.8420\n",
            "Epoch 12/50\n",
            "38/38 [==============================] - 20s 533ms/step - loss: 0.3686 - acc: 0.8554 - val_loss: 0.2659 - val_acc: 0.8740\n",
            "Epoch 13/50\n",
            "38/38 [==============================] - 20s 536ms/step - loss: 0.3538 - acc: 0.8585 - val_loss: 0.2847 - val_acc: 0.8650\n",
            "Epoch 14/50\n",
            "38/38 [==============================] - 20s 534ms/step - loss: 0.3114 - acc: 0.8761 - val_loss: 0.3376 - val_acc: 0.8515\n",
            "Epoch 15/50\n",
            "38/38 [==============================] - 20s 536ms/step - loss: 0.3415 - acc: 0.8690 - val_loss: 0.2880 - val_acc: 0.8685\n",
            "Epoch 16/50\n",
            "38/38 [==============================] - 20s 536ms/step - loss: 0.2978 - acc: 0.8749 - val_loss: 0.3569 - val_acc: 0.8630\n",
            "Epoch 17/50\n",
            "38/38 [==============================] - 20s 531ms/step - loss: 0.3140 - acc: 0.8802 - val_loss: 0.4237 - val_acc: 0.8760\n",
            "Epoch 18/50\n",
            "38/38 [==============================] - 20s 533ms/step - loss: 0.2899 - acc: 0.8866 - val_loss: 0.2743 - val_acc: 0.9050\n",
            "Epoch 19/50\n",
            "38/38 [==============================] - 20s 539ms/step - loss: 0.2764 - acc: 0.8912 - val_loss: 0.5243 - val_acc: 0.8230\n",
            "Epoch 20/50\n",
            "38/38 [==============================] - 20s 532ms/step - loss: 0.2741 - acc: 0.8969 - val_loss: 0.2205 - val_acc: 0.9100\n",
            "Epoch 21/50\n",
            "38/38 [==============================] - 20s 530ms/step - loss: 0.2587 - acc: 0.9060 - val_loss: 0.3912 - val_acc: 0.8340\n",
            "Epoch 22/50\n",
            "38/38 [==============================] - 20s 530ms/step - loss: 0.2644 - acc: 0.8934 - val_loss: 0.3789 - val_acc: 0.8515\n",
            "Epoch 23/50\n",
            "38/38 [==============================] - 20s 531ms/step - loss: 0.2704 - acc: 0.8871 - val_loss: 0.3822 - val_acc: 0.9030\n",
            "Epoch 24/50\n",
            "38/38 [==============================] - 20s 530ms/step - loss: 0.2804 - acc: 0.9040 - val_loss: 0.3078 - val_acc: 0.8855\n",
            "Epoch 25/50\n",
            "38/38 [==============================] - 20s 530ms/step - loss: 0.2321 - acc: 0.9213 - val_loss: 0.6022 - val_acc: 0.8005\n",
            "Epoch 26/50\n",
            "38/38 [==============================] - 20s 528ms/step - loss: 0.2337 - acc: 0.9111 - val_loss: 0.3445 - val_acc: 0.9040\n",
            "Epoch 27/50\n",
            "38/38 [==============================] - 20s 531ms/step - loss: 0.2481 - acc: 0.9155 - val_loss: 0.4650 - val_acc: 0.8250\n",
            "Epoch 28/50\n",
            "38/38 [==============================] - 20s 531ms/step - loss: 0.2697 - acc: 0.8941 - val_loss: 0.5670 - val_acc: 0.8810\n",
            "Epoch 29/50\n",
            "38/38 [==============================] - 20s 531ms/step - loss: 0.2061 - acc: 0.9152 - val_loss: 0.3442 - val_acc: 0.9175\n",
            "Epoch 30/50\n",
            "38/38 [==============================] - 20s 534ms/step - loss: 0.2599 - acc: 0.9097 - val_loss: 0.3640 - val_acc: 0.9100\n",
            "Epoch 31/50\n",
            "38/38 [==============================] - 20s 531ms/step - loss: 0.2235 - acc: 0.9180 - val_loss: 0.3033 - val_acc: 0.9065\n",
            "Epoch 32/50\n",
            "38/38 [==============================] - 20s 534ms/step - loss: 0.1832 - acc: 0.9341 - val_loss: 0.2537 - val_acc: 0.9160\n",
            "Epoch 33/50\n",
            "38/38 [==============================] - 20s 526ms/step - loss: 0.1666 - acc: 0.9341 - val_loss: 0.3210 - val_acc: 0.9030\n",
            "Epoch 34/50\n",
            "38/38 [==============================] - 20s 538ms/step - loss: 0.1871 - acc: 0.9374 - val_loss: 0.5026 - val_acc: 0.9100\n",
            "Epoch 35/50\n",
            "38/38 [==============================] - 20s 532ms/step - loss: 0.2238 - acc: 0.9200 - val_loss: 0.9070 - val_acc: 0.8980\n",
            "Epoch 36/50\n",
            "38/38 [==============================] - 20s 533ms/step - loss: 0.1680 - acc: 0.9431 - val_loss: 0.3138 - val_acc: 0.9035\n",
            "Epoch 37/50\n",
            "38/38 [==============================] - 20s 530ms/step - loss: 0.1488 - acc: 0.9438 - val_loss: 0.4384 - val_acc: 0.8960\n",
            "Epoch 38/50\n",
            "38/38 [==============================] - 20s 528ms/step - loss: 0.1763 - acc: 0.9373 - val_loss: 0.3977 - val_acc: 0.9245\n",
            "Epoch 39/50\n",
            "38/38 [==============================] - 20s 532ms/step - loss: 0.2027 - acc: 0.9329 - val_loss: 0.2553 - val_acc: 0.9170\n",
            "Epoch 40/50\n",
            "38/38 [==============================] - 20s 527ms/step - loss: 0.1377 - acc: 0.9521 - val_loss: 0.3543 - val_acc: 0.9175\n",
            "Epoch 41/50\n",
            "38/38 [==============================] - 20s 527ms/step - loss: 0.2692 - acc: 0.9427 - val_loss: 0.3982 - val_acc: 0.9240\n",
            "Epoch 42/50\n",
            "38/38 [==============================] - 20s 533ms/step - loss: 0.1084 - acc: 0.9626 - val_loss: 0.6767 - val_acc: 0.9180\n",
            "Epoch 43/50\n",
            "38/38 [==============================] - 20s 526ms/step - loss: 0.2129 - acc: 0.9369 - val_loss: 0.5383 - val_acc: 0.9085\n",
            "Epoch 44/50\n",
            "38/38 [==============================] - 20s 530ms/step - loss: 0.1555 - acc: 0.9580 - val_loss: 0.3174 - val_acc: 0.9250\n",
            "Epoch 45/50\n",
            "38/38 [==============================] - 20s 526ms/step - loss: 0.1345 - acc: 0.9492 - val_loss: 0.9318 - val_acc: 0.8990\n",
            "Epoch 46/50\n",
            "38/38 [==============================] - 20s 529ms/step - loss: 0.1115 - acc: 0.9630 - val_loss: 0.7948 - val_acc: 0.9220\n",
            "Epoch 47/50\n",
            "38/38 [==============================] - 20s 527ms/step - loss: 0.2786 - acc: 0.9419 - val_loss: 0.4995 - val_acc: 0.9080\n",
            "Epoch 48/50\n",
            "38/38 [==============================] - 20s 528ms/step - loss: 0.1058 - acc: 0.9624 - val_loss: 1.0604 - val_acc: 0.9260\n",
            "Epoch 49/50\n",
            "38/38 [==============================] - 20s 533ms/step - loss: 0.1934 - acc: 0.9396 - val_loss: 0.4262 - val_acc: 0.9265\n",
            "Epoch 50/50\n",
            "38/38 [==============================] - 20s 531ms/step - loss: 0.1542 - acc: 0.9546 - val_loss: 1.1679 - val_acc: 0.8485\n"
          ],
          "name": "stdout"
        }
      ]
    },
    {
      "cell_type": "code",
      "metadata": {
        "id": "_L3PgVlPNiAz",
        "colab": {
          "base_uri": "https://localhost:8080/",
          "height": 580
        },
        "outputId": "f8c3a261-6bb4-4102-9a4f-80413e20ee53"
      },
      "source": [
        "acc = history.history['acc']\n",
        "val_acc = history.history['val_acc']\n",
        "loss = history.history['loss']\n",
        "val_loss = history.history['val_loss']\n",
        "\n",
        "epochs = range(len(acc))\n",
        "\n",
        "plt.plot(epochs, acc, 'g', label='Training accuracy')\n",
        "plt.plot(epochs, val_acc, 'b', label='Validation accuracy')\n",
        "plt.title('Training and validation accuracy')\n",
        "plt.legend(loc=0)\n",
        "plt.figure()\n",
        "plt.show()\n",
        "\n",
        "plt.plot(epochs, loss, 'r', label='Training loss')\n",
        "plt.plot(epochs, val_loss, 'orange', label='Validation loss')\n",
        "plt.title('Training and validation loss')\n",
        "\n",
        "plt.legend(loc=0)\n",
        "plt.figure()\n",
        "plt.show()"
      ],
      "execution_count": 9,
      "outputs": [
        {
          "output_type": "display_data",
          "data": {
            "image/png": "[encoded data removed]",
            "text/plain": [
              "<Figure size 432x288 with 1 Axes>"
            ]
          },
          "metadata": {
            "tags": [],
            "needs_background": "light"
          }
        },
        {
          "output_type": "display_data",
          "data": {
            "text/plain": [
              "<Figure size 432x288 with 0 Axes>"
            ]
          },
          "metadata": {
            "tags": []
          }
        },
        {
          "output_type": "display_data",
          "data": {
            "image/png": "[encoded data removed]",
            "text/plain": [
              "<Figure size 432x288 with 1 Axes>"
            ]
          },
          "metadata": {
            "tags": [],
            "needs_background": "light"
          }
        },
        {
          "output_type": "display_data",
          "data": {
            "text/plain": [
              "<Figure size 432x288 with 0 Axes>"
            ]
          },
          "metadata": {
            "tags": []
          }
        }
      ]
    },
    {
      "cell_type": "code",
      "metadata": {
        "id": "YeOCDSHvtVw0"
      },
      "source": [
        "from google.colab import files\n",
        "from keras.preprocessing import image"
      ],
      "execution_count": 10,
      "outputs": []
    },
    {
      "cell_type": "code",
      "metadata": {
        "colab": {
          "resources": {
            "http://localhost:8080/nbextensions/google.colab/files.js": {
              "data": "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",
              "ok": true,
              "headers": [
                [
                  "content-type",
                  "application/javascript"
                ]
              ],
              "status": 200,
              "status_text": ""
            }
          },
          "base_uri": "https://localhost:8080/",
          "height": 108
        },
        "id": "OH37ofjUtn7C",
        "outputId": "2cc6ae1d-f610-40af-a093-ab4b97322848"
      },
      "source": [
        "uploaded =files.upload()\n",
        "\n",
        "for fn in uploaded.keys():\n",
        "  #predicting images\n",
        "  path='/content/'+ fn\n",
        "  img=image.load_img(path, target_size=(227,227))\n",
        "  x=image.img_to_array(img)\n",
        "  x=np.expand_dims(x, axis=0)\n",
        "\n",
        "  images=np.vstack([x])\n",
        "  classes=model.predict(images, batch_size=10)\n",
        "  print(classes[0])\n",
        "  if classes[0]<0.5:\n",
        "    print(fn + ' has Fire in the image')\n",
        "  else:\n",
        "    print(fn + ' has no Fire in the image')"
      ],
      "execution_count": 28,
      "outputs": [
        {
          "output_type": "display_data",
          "data": {
            "text/html": [
              "\n",
              "     <input type=\"file\" id=\"files-506ed35b-3e6e-40a0-a704-62465f90e7ae\" name=\"files[]\" multiple disabled\n",
              "        style=\"border:none\" />\n",
              "     <output id=\"result-506ed35b-3e6e-40a0-a704-62465f90e7ae\">\n",
              "      Upload widget is only available when the cell has been executed in the\n",
              "      current browser session. Please rerun this cell to enable.\n",
              "      </output>\n",
              "      <script src=\"/nbextensions/google.colab/files.js\"></script> "
            ],
            "text/plain": [
              "<IPython.core.display.HTML object>"
            ]
          },
          "metadata": {
            "tags": []
          }
        },
        {
          "output_type": "stream",
          "text": [
            "Saving dayroad23.jpg to dayroad23 (1).jpg\n",
            "[0.]\n",
            "dayroad23.jpg has Fire in the image\n"
          ],
          "name": "stdout"
        }
      ]
    }
  ]
}